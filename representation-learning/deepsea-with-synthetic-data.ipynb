{
 "cells": [
  {
   "cell_type": "markdown",
   "id": "brief-arctic",
   "metadata": {},
   "source": [
    "# deepSEA\n",
    "\n",
    "https://mit6874.github.io/assets/misc/l10/deep-sea.pdf\n",
    "\n",
    "https://github.com/jisraeli/DeepSEA/blob/master/2_model.lua\n",
    "\n",
    "model architecture (from supplemental)\n",
    "1. conv (320 kernels, kernel size 8, stride 1)\n",
    "2. pooling (window 4, step 4)\n",
    "3. conv (480 kernels, kernel size 8, stride 1)\n",
    "4. pooling (window 4, step 4)\n",
    "5. conv (960 kernels, kernel size 8, stride 1)\n",
    "6. dense (925 neurons)\n",
    "7. sigmoid output (but 12 neurons before this?)\n",
    "\n",
    "- dropout after layer 2 (20%), after layer 4 (20%), and after layer 5 (50%).\n",
    "- L2 regularization ($\\lambda_1$): 5e-07\n",
    "- L1 sparsity ($\\lambda_2$): 1e-08\n",
    "- max kernel norm ($\\lambda_3$): 0.9"
   ]
  },
  {
   "cell_type": "code",
   "execution_count": null,
   "id": "western-myrtle",
   "metadata": {},
   "outputs": [],
   "source": [
    "# format code with \"black\" formatter. optional\n",
    "%load_ext nb_black"
   ]
  },
  {
   "cell_type": "code",
   "execution_count": null,
   "id": "featured-thing",
   "metadata": {},
   "outputs": [],
   "source": [
    "!wget --timestamping https://www.dropbox.com/s/c3umbo5y13sqcfp/synthetic_dataset.h5"
   ]
  },
  {
   "cell_type": "code",
   "execution_count": null,
   "id": "known-title",
   "metadata": {},
   "outputs": [],
   "source": [
    "from pathlib import Path\n",
    "import h5py\n",
    "import numpy as np\n",
    "\n",
    "data_path = Path(\"synthetic_dataset.h5\")\n",
    "with h5py.File(data_path, \"r\") as dataset:\n",
    "    x_train = dataset[\"X_train\"][:].astype(np.float32)\n",
    "    y_train = dataset[\"Y_train\"][:].astype(np.float32)\n",
    "    x_valid = dataset[\"X_valid\"][:].astype(np.float32)\n",
    "    y_valid = dataset[\"Y_valid\"][:].astype(np.int32)\n",
    "    x_test = dataset[\"X_test\"][:].astype(np.float32)\n",
    "    y_test = dataset[\"Y_test\"][:].astype(np.int32)\n",
    "\n",
    "x_train = x_train.transpose([0, 2, 1])\n",
    "x_valid = x_valid.transpose([0, 2, 1])\n",
    "x_test = x_test.transpose([0, 2, 1])\n",
    "\n",
    "N, L, A = x_train.shape\n",
    "print(f\"{N} sequences, {L} nts per sequence, {A} nts in alphabet\")"
   ]
  },
  {
   "cell_type": "markdown",
   "id": "clean-tract",
   "metadata": {},
   "source": [
    "## create model"
   ]
  },
  {
   "cell_type": "code",
   "execution_count": null,
   "id": "appointed-serial",
   "metadata": {},
   "outputs": [],
   "source": [
    "import tensorflow as tf\n",
    "\n",
    "tfk = tf.keras\n",
    "tfkl = tf.keras.layers\n",
    "\n",
    "n_classes = 12\n",
    "\n",
    "l1_l2 = tfk.regularizers.l1_l2(l1=1e-08, l2=5e-07)\n",
    "maxnorm = tfk.constraints.max_norm(0.9)\n",
    "\n",
    "tfk.Sequential(\n",
    "    [\n",
    "        tfkl.Conv1D(\n",
    "            filters=320,\n",
    "            kernel_size=8,\n",
    "            strides=1,\n",
    "            activation=tf.nn.relu,\n",
    "            kernel_regularizer=l1_l2,\n",
    "            kernel_constraint=maxnorm,\n",
    "            input_shape=(L, A),\n",
    "        ),\n",
    "        tfkl.MaxPool1D(pool_size=4, strides=4),\n",
    "        tfkl.Conv1D(\n",
    "            filters=480,\n",
    "            kernel_size=8,\n",
    "            strides=1,\n",
    "            activation=tf.nn.relu,\n",
    "            kernel_regularizer=l1_l2,\n",
    "            kernel_constraint=maxnorm,\n",
    "        ),\n",
    "        tfkl.MaxPool1D(pool_size=4, strides=4),\n",
    "        tfkl.Conv1D(\n",
    "            filters=960,\n",
    "            kernel_size=8,\n",
    "            strides=1,\n",
    "            activation=tf.nn.relu,\n",
    "            kernel_regularizer=l1_l2,\n",
    "            kernel_constraint=maxnorm,\n",
    "        ),\n",
    "        tfkl.Dense(925, activation=tf.nn.relu),\n",
    "        tfkl.Dense(n_classes, activation=tf.nn.sigmoid),\n",
    "    ]\n",
    ")"
   ]
  },
  {
   "cell_type": "code",
   "execution_count": null,
   "id": "under-vienna",
   "metadata": {},
   "outputs": [],
   "source": [
    "metrics = [\n",
    "    tfk.metrics.AUC(curve=\"ROC\", name=\"auroc\"),\n",
    "    tfk.metrics.AUC(curve=\"PR\", name=\"aupr\"),  # precision-recall\n",
    "]\n",
    "model.compile(\n",
    "    optimizer=tfk.optimizers.Adam(learning_rate=0.001),\n",
    "    loss=tfk.losses.BinaryCrossentropy(from_logits=False),\n",
    "    metrics=metrics,\n",
    ")"
   ]
  },
  {
   "cell_type": "code",
   "execution_count": null,
   "id": "spread-eight",
   "metadata": {},
   "outputs": [],
   "source": [
    "callbacks = [\n",
    "    tfk.callbacks.EarlyStopping(\n",
    "        monitor=\"val_aupr\",\n",
    "        patience=20,\n",
    "        verbose=1,\n",
    "        mode=\"max\",\n",
    "        restore_best_weights=False,\n",
    "    ),\n",
    "    tfk.callbacks.ReduceLROnPlateau(\n",
    "        monitor=\"val_aupr\",\n",
    "        factor=0.2,\n",
    "        patience=5,\n",
    "        min_lr=1e-7,\n",
    "        mode=\"max\",\n",
    "        verbose=1,\n",
    "    ),\n",
    "]\n",
    "# train\n",
    "history: tfk.callbacks.History = model.fit(\n",
    "    x=x_train,\n",
    "    y=y_train,\n",
    "    batch_size=100,\n",
    "    epochs=100,\n",
    "    shuffle=True,\n",
    "    validation_data=(x_valid, y_valid),\n",
    "    callbacks=callbacks,\n",
    "    verbose=2,\n",
    ")"
   ]
  },
  {
   "cell_type": "code",
   "execution_count": null,
   "id": "capable-collins",
   "metadata": {},
   "outputs": [],
   "source": []
  },
  {
   "cell_type": "code",
   "execution_count": null,
   "id": "surface-contractor",
   "metadata": {},
   "outputs": [],
   "source": []
  },
  {
   "cell_type": "code",
   "execution_count": null,
   "id": "related-minnesota",
   "metadata": {},
   "outputs": [],
   "source": []
  },
  {
   "cell_type": "code",
   "execution_count": null,
   "id": "automated-favorite",
   "metadata": {},
   "outputs": [],
   "source": []
  },
  {
   "cell_type": "code",
   "execution_count": null,
   "id": "developing-arthritis",
   "metadata": {},
   "outputs": [],
   "source": []
  }
 ],
 "metadata": {
  "kernelspec": {
   "display_name": "Python 3",
   "language": "python",
   "name": "python3"
  },
  "language_info": {
   "codemirror_mode": {
    "name": "ipython",
    "version": 3
   },
   "file_extension": ".py",
   "mimetype": "text/x-python",
   "name": "python",
   "nbconvert_exporter": "python",
   "pygments_lexer": "ipython3",
   "version": "3.8.6"
  }
 },
 "nbformat": 4,
 "nbformat_minor": 5
}
