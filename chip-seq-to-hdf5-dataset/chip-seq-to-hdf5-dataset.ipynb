{
 "cells": [
  {
   "cell_type": "markdown",
   "metadata": {
    "id": "wPsnR886I0-3"
   },
   "source": [
    "# chip-seq analysis\n",
    "\n",
    "cut up the genome into sequences. align them to the genome. look at distribution.\n",
    "\n",
    "## macs2 - peak caller\n",
    "\n",
    "output is bedfile. has chromosome, start, strand information. this is where we come in.\n",
    "\n",
    "We love [ENCODE](https://www.encodeproject.org). Encyclopedia of DNA Elements. This has lots of non-coding DNA elements (which is often regulatory).\n",
    "\n",
    "How do we know if a DNA region is regulatory? Just because a protein binds to it does not necessarily mean it is biologically meaningful. \n",
    "\n",
    "We want to narrow down to TF ChIP-seq experiments.\n",
    "\n",
    "For example, https://www.encodeproject.org/experiments/ENCSR000DRZ/\n",
    "\n",
    "- BAM file has alignements.\n",
    "- bigWig allows you to visualize data on genome browser (nice for presentations). Shush and Amber have been doing this with ChIP-seq peaks.\n",
    "\n",
    "We are most interested in BED files. Want to use merged data (replicates 1,2 for example). Go with \"conservative IDR thresholded peaks\" (though there are many more)."
   ]
  },
  {
   "cell_type": "code",
   "execution_count": null,
   "metadata": {},
   "outputs": [],
   "source": [
    "%load_ext nb_black"
   ]
  },
  {
   "cell_type": "code",
   "execution_count": null,
   "metadata": {
    "colab": {
     "base_uri": "https://localhost:8080/"
    },
    "id": "-I8CI95kI7Ez",
    "outputId": "9464e67c-b521-47d7-9e54-8f173441de33"
   },
   "outputs": [],
   "source": [
    "# Stamatoyannopoulos - Univ of Washington\n",
    "# CTCF ChIP-seq on human GM12878\n",
    "# https://www.encodeproject.org/experiments/ENCSR000DRZ/\n",
    "# conservative IDR thresholded peaks  1,2  hg19\n",
    "!wget -N -nv --show-progress https://www.encodeproject.org/files/ENCFF963PJY/@@download/ENCFF963PJY.bed.gz"
   ]
  },
  {
   "cell_type": "code",
   "execution_count": null,
   "metadata": {
    "colab": {
     "base_uri": "https://localhost:8080/"
    },
    "id": "cNGptPAwPCn6",
    "outputId": "5c4da922-4a24-497d-a8e3-07718e7058bc",
    "scrolled": true
   },
   "outputs": [],
   "source": [
    "!ls"
   ]
  },
  {
   "cell_type": "code",
   "execution_count": null,
   "metadata": {
    "id": "WsO8KpIzPCgg"
   },
   "outputs": [],
   "source": [
    "import pandas as pd\n",
    "\n",
    "df = pd.read_csv(\"ENCFF963PJY.bed.gz\", delimiter=\"\\t\", header=None)\n",
    "df.head()"
   ]
  },
  {
   "cell_type": "code",
   "execution_count": null,
   "metadata": {
    "id": "RxBtdYXmPCXI"
   },
   "outputs": [],
   "source": [
    "%matplotlib inline\n",
    "import matplotlib.pyplot as plt\n",
    "\n",
    "lengths = df.loc[:, 2] - df.loc[:, 1]\n",
    "plt.hist(lengths, bins=20)\n",
    "plt.title(\"Distribution of peak length\")\n",
    "plt.show()"
   ]
  },
  {
   "cell_type": "markdown",
   "metadata": {},
   "source": [
    "## filter"
   ]
  },
  {
   "cell_type": "markdown",
   "metadata": {},
   "source": [
    "### remove sequences > threshold length"
   ]
  },
  {
   "cell_type": "markdown",
   "metadata": {},
   "source": [
    "### make sequences a constant size\n",
    "\n",
    "get center of each peak and get window//2 on either side. window could be 200.\n"
   ]
  },
  {
   "cell_type": "markdown",
   "metadata": {},
   "source": [
    "### filter using the functions above"
   ]
  },
  {
   "cell_type": "code",
   "execution_count": null,
   "metadata": {},
   "outputs": [],
   "source": [
    "import pandas as pd\n",
    "\n",
    "import chipseq_utils"
   ]
  },
  {
   "cell_type": "code",
   "execution_count": null,
   "metadata": {},
   "outputs": [],
   "source": [
    "df = pd.read_csv(\"ENCFF963PJY.bed.gz\", delimiter=\"\\t\", header=None)\n",
    "df = chipseq_utils.filter_bed_by_max_length(df, max_length=250)\n",
    "df = chipseq_utils.transform_bed_to_constant_size(df, window=250)\n",
    "df.to_csv(\"ENCFF963PJY_filtered.bed.gz\", sep=\"\\t\", index=False, header=False)"
   ]
  },
  {
   "cell_type": "markdown",
   "metadata": {},
   "source": [
    "## something something fasta"
   ]
  },
  {
   "cell_type": "markdown",
   "metadata": {},
   "source": [
    "### get reference genome\n",
    "\n",
    "In this case, reference genome is in `.2bit` format, so we must convert to fasta."
   ]
  },
  {
   "cell_type": "code",
   "execution_count": null,
   "metadata": {
    "scrolled": false
   },
   "outputs": [],
   "source": [
    "# get reference genome\n",
    "!wget -N -nv --show-progress https://hgdownload.cse.ucsc.edu/goldenPath/hg19/bigZips/hg19.2bit"
   ]
  },
  {
   "cell_type": "code",
   "execution_count": null,
   "metadata": {
    "colab": {
     "base_uri": "https://localhost:8080/"
    },
    "id": "Yls39buqRPcQ",
    "outputId": "16b65b02-43e3-452b-fd49-d960d811ec62",
    "scrolled": false
   },
   "outputs": [],
   "source": [
    "# get program that converts twobit to fasta format\n",
    "!wget -N -nv --show-progress http://hgdownload.soe.ucsc.edu/admin/exe/linux.x86_64/twoBitToFa\n",
    "!chmod +x twoBitToFa"
   ]
  },
  {
   "cell_type": "code",
   "execution_count": null,
   "metadata": {
    "scrolled": false
   },
   "outputs": [],
   "source": [
    "# convert 2bit for fasta.\n",
    "reference_fasta = \"hg19.fa.gz\"\n",
    "process = chipseq_utils.twobit_to_fasta(\"hg19.2bit\", reference_fasta)\n",
    "print(process)"
   ]
  },
  {
   "cell_type": "code",
   "execution_count": null,
   "metadata": {
    "colab": {
     "base_uri": "https://localhost:8080/"
    },
    "id": "3N9rLb-zTJZZ",
    "outputId": "c6699d39-031b-4f3a-d8c0-e3f974dd9f27"
   },
   "outputs": [],
   "source": [
    "# Install bedtools if the program is not found.\n",
    "![[ $(command -v bedtools) ]] || sudo apt-get install --yes --quiet bedtools"
   ]
  },
  {
   "cell_type": "code",
   "execution_count": 1,
   "metadata": {},
   "outputs": [],
   "source": [
    "import chipseq_utils"
   ]
  },
  {
   "cell_type": "code",
   "execution_count": 5,
   "metadata": {},
   "outputs": [
    {
     "name": "stdout",
     "output_type": "stream",
     "text": [
      "CompletedProcess(args=['bedtools', 'getfasta', '-s', '-fi', 'hg19.fa', '-bed', 'ENCFF963PJY_filtered.bed.gz', '-fo', 'ENCFF963PJY_filtered-hg19.fa'], returncode=0, stdout=b'', stderr=b'Warning: the index file is older than the FASTA file.\\n')\n"
     ]
    }
   ],
   "source": [
    "# create fasta file from the bedfile.\n",
    "# !bedtools getfasta -s -fi hg19.fa -bed ENCFF963PJY_filtered.bed.gz -fo ENCFF963PJY_filtered-hg19.fa\n",
    "\n",
    "process = chipseq_utils.bedtools_getfasta(\n",
    "    input_fasta=\"hg19.fa\",\n",
    "    output_fasta=\"ENCFF963PJY_filtered-hg19.fa\",\n",
    "    bed_file=\"ENCFF963PJY_filtered.bed.gz\",\n",
    "    force_strandedness=True,\n",
    ")\n",
    "print(process)"
   ]
  },
  {
   "cell_type": "code",
   "execution_count": 6,
   "metadata": {
    "colab": {
     "base_uri": "https://localhost:8080/"
    },
    "id": "bo-YX4y7UP_p",
    "outputId": "b282e052-01d8-4063-b1e4-1bc2075b0ca7",
    "scrolled": true
   },
   "outputs": [
    {
     "name": "stdout",
     "output_type": "stream",
     "text": [
      ">chr6:91186482-91186732(.)\r\n",
      "CGTTTGAAGGGGTATTTTCTGTTGTTCAATTGTGAACATATTTGGTTGCAGTTTTGAAGGCTTTTCCTCTAGAACTTTTCATGTCCTATTAGCTGATAACACTCCTGAGCATGAATGTCTCTGTGCTACTGCCCTCTAGGTGTGTTGGAAAAAATAGAGTGCTAATCCCACGCACCTGCTTTCAATTCGGCCCACATGAGTCTGGTGCCAGAGGTTTGTTCACTCTGAATATTTCTACGCAATCTTCAAA\r\n",
      ">chr3:47841660-47841910(.)\r\n",
      "catgcccgattaattgtgtatttttagtagagatggggtttctccatgttggtcaggctggtcttgaactcctgacctcaggtgacccgcctgcctgggcctccaaagtgctgggattacaggcatgagccaccacacctggccTTAGGTCTTGATTTATTTGTggctgggcatagtgggtcacacctgtaatctcaggagtttgggaggctgaagtgggaggatcgcttgaggccaggagtttgaggtc\r\n"
     ]
    }
   ],
   "source": [
    "!head -n 4 ENCFF963PJY_filtered-hg19.fa.gz"
   ]
  },
  {
   "cell_type": "code",
   "execution_count": 7,
   "metadata": {},
   "outputs": [],
   "source": [
    "import numpy as np\n",
    "\n",
    "import chipseq_utils"
   ]
  },
  {
   "cell_type": "code",
   "execution_count": 24,
   "metadata": {},
   "outputs": [
    {
     "data": {
      "text/plain": [
       "(1, 4, 4)"
      ]
     },
     "execution_count": 24,
     "metadata": {},
     "output_type": "execute_result"
    }
   ],
   "source": [
    "a = chipseq_utils.one_hot([\"TGCA\"], alphabet=\"ACGT\")\n",
    "a.shape"
   ]
  },
  {
   "cell_type": "code",
   "execution_count": 27,
   "metadata": {},
   "outputs": [
    {
     "ename": "NameError",
     "evalue": "name 'nonsense' is not defined",
     "output_type": "error",
     "traceback": [
      "\u001b[0;31m---------------------------------------------------------------------------\u001b[0m",
      "\u001b[0;31mNameError\u001b[0m                                 Traceback (most recent call last)",
      "\u001b[0;32m<ipython-input-27-7dd4c0df649c>\u001b[0m in \u001b[0;36m<module>\u001b[0;34m\u001b[0m\n\u001b[0;32m----> 1\u001b[0;31m \u001b[0mnonsense\u001b[0m\u001b[0;34m\u001b[0m\u001b[0;34m\u001b[0m\u001b[0m\n\u001b[0m",
      "\u001b[0;31mNameError\u001b[0m: name 'nonsense' is not defined"
     ]
    }
   ],
   "source": [
    "nonsense"
   ]
  },
  {
   "cell_type": "code",
   "execution_count": null,
   "metadata": {},
   "outputs": [],
   "source": []
  },
  {
   "cell_type": "code",
   "execution_count": 30,
   "metadata": {},
   "outputs": [
    {
     "ename": "NameError",
     "evalue": "name 'array' is not defined",
     "output_type": "error",
     "traceback": [
      "\u001b[0;31m---------------------------------------------------------------------------\u001b[0m",
      "\u001b[0;31mNameError\u001b[0m                                 Traceback (most recent call last)",
      "\u001b[0;32m<ipython-input-30-b2d2de964cdd>\u001b[0m in \u001b[0;36m<module>\u001b[0;34m\u001b[0m\n\u001b[1;32m      3\u001b[0m \u001b[0mnonsense\u001b[0m \u001b[0;34m=\u001b[0m \u001b[0mchipseq_utils\u001b[0m\u001b[0;34m.\u001b[0m\u001b[0mget_nonsense_sequence_mask\u001b[0m\u001b[0;34m(\u001b[0m\u001b[0msequences\u001b[0m\u001b[0;34m,\u001b[0m \u001b[0mnonsense_letters\u001b[0m\u001b[0;34m=\u001b[0m\u001b[0;34m\"N\"\u001b[0m\u001b[0;34m)\u001b[0m\u001b[0;34m\u001b[0m\u001b[0;34m\u001b[0m\u001b[0m\n\u001b[1;32m      4\u001b[0m \u001b[0mnonsense\u001b[0m\u001b[0;34m\u001b[0m\u001b[0;34m\u001b[0m\u001b[0m\n\u001b[0;32m----> 5\u001b[0;31m \u001b[0marray\u001b[0m\u001b[0;34m(\u001b[0m\u001b[0;34m[\u001b[0m\u001b[0;32mFalse\u001b[0m\u001b[0;34m,\u001b[0m  \u001b[0;32mTrue\u001b[0m\u001b[0;34m,\u001b[0m \u001b[0;32mFalse\u001b[0m\u001b[0;34m]\u001b[0m\u001b[0;34m)\u001b[0m\u001b[0;34m\u001b[0m\u001b[0;34m\u001b[0m\u001b[0m\n\u001b[0m\u001b[1;32m      6\u001b[0m \u001b[0;31m# >>> print(sequences[nonsense])\u001b[0m\u001b[0;34m\u001b[0m\u001b[0;34m\u001b[0m\u001b[0;34m\u001b[0m\u001b[0m\n\u001b[1;32m      7\u001b[0m \u001b[0;31m# ['GCTATTAN']\u001b[0m\u001b[0;34m\u001b[0m\u001b[0;34m\u001b[0m\u001b[0;34m\u001b[0m\u001b[0m\n",
      "\u001b[0;31mNameError\u001b[0m: name 'array' is not defined"
     ]
    }
   ],
   "source": [
    ">>> import numpy as np\n",
    ">>> sequences = np.array([\"AGGCCT\", \"GCTATTAN\", \"CGCTGC\"])\n",
    ">>> nonsense = chipseq_utils.get_nonsense_sequence_mask(sequences, nonsense_letters=\"N\")\n",
    ">>> nonsense\n",
    "array([False,  True, False])\n",
    "# >>> print(sequences[nonsense])\n",
    "# ['GCTATTAN']\n",
    "# >>> sequences[~nonsense]\n",
    "# ['AGGCCT' 'CGCTGC']\n"
   ]
  },
  {
   "cell_type": "code",
   "execution_count": 29,
   "metadata": {},
   "outputs": [
    {
     "data": {
      "text/plain": [
       "array([False,  True, False])"
      ]
     },
     "execution_count": 29,
     "metadata": {},
     "output_type": "execute_result"
    }
   ],
   "source": [
    "nonsense"
   ]
  },
  {
   "cell_type": "code",
   "execution_count": null,
   "metadata": {},
   "outputs": [],
   "source": []
  },
  {
   "cell_type": "code",
   "execution_count": null,
   "metadata": {},
   "outputs": [],
   "source": []
  },
  {
   "cell_type": "code",
   "execution_count": null,
   "metadata": {},
   "outputs": [],
   "source": []
  },
  {
   "cell_type": "code",
   "execution_count": null,
   "metadata": {},
   "outputs": [],
   "source": []
  },
  {
   "cell_type": "code",
   "execution_count": null,
   "metadata": {},
   "outputs": [],
   "source": [
    ">>> \n",
    ">>> nonsense = chipseq_utils.get_nonsense_sequence_mask(sequences, nonsense_letters=\"N\")\n",
    ">>> print(nonsense)\n",
    ">>> print(sequences[nonsense])\n",
    ">>> print(sequences[~nonsense])"
   ]
  },
  {
   "cell_type": "code",
   "execution_count": null,
   "metadata": {},
   "outputs": [],
   "source": []
  },
  {
   "cell_type": "code",
   "execution_count": null,
   "metadata": {},
   "outputs": [],
   "source": []
  },
  {
   "cell_type": "code",
   "execution_count": null,
   "metadata": {},
   "outputs": [],
   "source": [
    "dd, ss = chipseq_utils.parse_fasta(\"ENCFF963PJY_filtered-hg19.fa\")\n",
    "nonsense = chipseq_utils.get_nonsense_sequence_mask(ss, nonsense_letters=\"N\")\n",
    "print(f\"Found {nonsense.sum()} sequences with nonsense letters\")\n",
    "dd = dd[~nonsense]\n",
    "ss = ss[~nonsense]\n",
    "ss_one_hot = chipseq_utils.one_hot(ss)\n",
    "print(\"Shape of one-hot encoded data:\", ss_one_hot.shape)"
   ]
  },
  {
   "cell_type": "code",
   "execution_count": null,
   "metadata": {},
   "outputs": [],
   "source": []
  },
  {
   "cell_type": "code",
   "execution_count": null,
   "metadata": {},
   "outputs": [],
   "source": []
  },
  {
   "cell_type": "code",
   "execution_count": null,
   "metadata": {},
   "outputs": [],
   "source": []
  },
  {
   "cell_type": "code",
   "execution_count": null,
   "metadata": {
    "scrolled": true
   },
   "outputs": [],
   "source": [
    "# Get GC content per sequence. This assumes that\n",
    "# GC are in slices 1:3 of the one-hot encoded data.\n",
    "# shape of this is (n_sequences,)\n",
    "gc_content_pos = ss_one_hot[:, :, 1:3].any(-1).mean(1)\n",
    "\n",
    "plt.hist(gc_content_pos, bins=20)\n",
    "plt.title(\"Histogram of GC content among sequences\")\n",
    "plt.show()"
   ]
  },
  {
   "cell_type": "code",
   "execution_count": null,
   "metadata": {},
   "outputs": [],
   "source": []
  },
  {
   "cell_type": "code",
   "execution_count": null,
   "metadata": {},
   "outputs": [],
   "source": []
  },
  {
   "cell_type": "code",
   "execution_count": null,
   "metadata": {},
   "outputs": [],
   "source": []
  },
  {
   "cell_type": "markdown",
   "metadata": {},
   "source": [
    "## create negative data\n",
    "\n",
    "Get non-overlap between positive peaks and negative peaks.\n",
    "\n",
    "Negative labels sampled from same distribution but without the pattern we are interested in. We will use DNAseq for the same cell-type as our negative control. This gives us accessible regions."
   ]
  },
  {
   "cell_type": "code",
   "execution_count": null,
   "metadata": {},
   "outputs": [],
   "source": [
    "# Stamatoyannopoulos - Univ of Washington\n",
    "# DNase-seq on human GM12878\n",
    "# https://www.encodeproject.org/experiments/ENCSR000EMT/\n",
    "!wget -N -nv --show-progress https://www.encodeproject.org/files/ENCFF097LEF/@@download/ENCFF097LEF.bed.gz"
   ]
  },
  {
   "cell_type": "code",
   "execution_count": null,
   "metadata": {},
   "outputs": [],
   "source": [
    "!bedtools intersect -v -wa -a ENCFF097LEF.bed.gz -b ENCFF963PJY_filtered.bed.gz | gzip > neg_nonoverlap.bed.gz"
   ]
  },
  {
   "cell_type": "code",
   "execution_count": null,
   "metadata": {},
   "outputs": [],
   "source": [
    "# TODO:\n",
    "# do the same processing as above for negative peaks. in the end, you want\n",
    "# one-hot representation of the negatives."
   ]
  },
  {
   "cell_type": "code",
   "execution_count": null,
   "metadata": {},
   "outputs": [],
   "source": [
    "import pandas as pd\n",
    "\n",
    "df = pd.read_csv(\"neg_nonoverlap.bed.gz\", delimiter=\"\\t\", header=None)\n",
    "df.head()"
   ]
  },
  {
   "cell_type": "code",
   "execution_count": null,
   "metadata": {},
   "outputs": [],
   "source": [
    "%matplotlib inline\n",
    "import matplotlib.pyplot as plt\n",
    "\n",
    "lengths = df.loc[:, 2] - df.loc[:, 1]\n",
    "plt.hist(lengths, bins=20)\n",
    "plt.title(\"Distribution of peak length\")\n",
    "plt.show()"
   ]
  },
  {
   "cell_type": "code",
   "execution_count": null,
   "metadata": {},
   "outputs": [],
   "source": [
    "df = filter_bed_by_max_length(df, max_length=250)\n",
    "df = transform_bed_to_constant_size(df, window=250)\n",
    "df.to_csv(\"neg_nonoverlap_filtered.bed.gz\", sep=\"\\t\", index=False, header=False)"
   ]
  },
  {
   "cell_type": "code",
   "execution_count": null,
   "metadata": {},
   "outputs": [],
   "source": [
    "# create fasta file from the bedfile.\n",
    "!bedtools getfasta -s -fi hg19.fa -bed neg_nonoverlap_filtered.bed.gz -fo neg_nonoverlap_filtered-hg19.fa"
   ]
  },
  {
   "cell_type": "code",
   "execution_count": null,
   "metadata": {},
   "outputs": [],
   "source": [
    "dd, ss = parse_fasta(\"neg_nonoverlap_filtered-hg19.fa\")\n",
    "\n",
    "nonsense_sequences = np.array([\"N\" in nt for nt in ss])\n",
    "if nonsense_sequences.size > 0:\n",
    "    dd = dd[~nonsense_sequences]\n",
    "    ss = ss[~nonsense_sequences]\n",
    "\n",
    "ss_one_hot_neg = one_hot_v1(ss, \"ACGT\")"
   ]
  },
  {
   "cell_type": "code",
   "execution_count": null,
   "metadata": {},
   "outputs": [],
   "source": [
    "# Get GC content per sequence. This assumes that\n",
    "# GC are in slices 1:3 of the one-hot encoded data.\n",
    "# shape of this is (n_sequences,)\n",
    "gc_content_neg = ss_one_hot_neg[:, :, 1:3].any(-1).mean(1)\n",
    "\n",
    "plt.hist(gc_content_neg, bins=20)\n",
    "plt.title(\"Histogram of GC content among sequences\")\n",
    "plt.show()"
   ]
  },
  {
   "cell_type": "code",
   "execution_count": null,
   "metadata": {},
   "outputs": [],
   "source": []
  },
  {
   "cell_type": "code",
   "execution_count": null,
   "metadata": {
    "id": "FYKAF6ZKY-7f"
   },
   "outputs": [],
   "source": [
    "# try to match positives and negatives by GC content.\n",
    "# use the one-hot encoded array.\n",
    "# we have to downsample negative peaks.\n",
    "#\n",
    "# do this after filtering with bedtools interset.\n",
    "#\n",
    "# then try to balance dataset. how much downsampling of negative data?\n",
    "\n",
    "# also give labels of 0 or 1.\n",
    "\n",
    "# save to hdf5\n",
    "\n",
    "# and then train on a model, and look at saliency map.\n",
    "# CTCF dataset is niiiiice. use that. Saliency map should show CTCF nicely."
   ]
  },
  {
   "cell_type": "code",
   "execution_count": null,
   "metadata": {},
   "outputs": [],
   "source": [
    "# https://datascience.stackexchange.com/questions/67645/how-to-resample-one-dataset-to-conform-to-the-distribution-of-another-dataset\n",
    "# https://stackoverflow.com/questions/41495240/how-to-sample-data-based-off-the-distribution-of-another-dataset-in-r"
   ]
  },
  {
   "cell_type": "code",
   "execution_count": null,
   "metadata": {},
   "outputs": [],
   "source": [
    "np.random.choice(gc_content_neg, replace=False, p=gc_content_pos)"
   ]
  },
  {
   "cell_type": "code",
   "execution_count": null,
   "metadata": {},
   "outputs": [],
   "source": [
    "import scipy.stats"
   ]
  },
  {
   "cell_type": "code",
   "execution_count": null,
   "metadata": {},
   "outputs": [],
   "source": [
    "kde = scipy.stats.kde.gaussian_kde(gc_content_pos)"
   ]
  },
  {
   "cell_type": "code",
   "execution_count": null,
   "metadata": {},
   "outputs": [],
   "source": [
    "neg_chosen = np.random.choice(\n",
    "    gc_content_neg, size=gc_content_pos.shape, replace=False, p=kde(gc_content_neg)\n",
    ")"
   ]
  },
  {
   "cell_type": "code",
   "execution_count": null,
   "metadata": {},
   "outputs": [],
   "source": []
  },
  {
   "cell_type": "code",
   "execution_count": null,
   "metadata": {},
   "outputs": [],
   "source": [
    "s = [\"ACGTGN\"]"
   ]
  },
  {
   "cell_type": "code",
   "execution_count": null,
   "metadata": {},
   "outputs": [],
   "source": [
    "\n",
    "def get_nonsense_sequence_mask(sequences, nonsense_letters=\"N\"):\n",
    "    \"\"\"Return boolean array, where `True` marks a sequence containing nonsense letters.\"\"\"\n",
    "    sequences = np.asanyarray(sequences)\n",
    "    return np.array(\n",
    "        [any(letter in sequence for letter in nonsense_letters) for nt in ss]\n",
    "    )\n"
   ]
  },
  {
   "cell_type": "code",
   "execution_count": null,
   "metadata": {},
   "outputs": [],
   "source": []
  },
  {
   "cell_type": "code",
   "execution_count": null,
   "metadata": {},
   "outputs": [],
   "source": []
  },
  {
   "cell_type": "code",
   "execution_count": null,
   "metadata": {},
   "outputs": [],
   "source": [
    "[all(word in sentence for word in words) for sentence in strings]"
   ]
  },
  {
   "cell_type": "code",
   "execution_count": null,
   "metadata": {},
   "outputs": [],
   "source": []
  },
  {
   "cell_type": "code",
   "execution_count": null,
   "metadata": {},
   "outputs": [],
   "source": []
  },
  {
   "cell_type": "code",
   "execution_count": null,
   "metadata": {
    "id": "yjcJ3uhhUPqx"
   },
   "outputs": [],
   "source": [
    "# TODO: generate about 10 datasets."
   ]
  },
  {
   "cell_type": "code",
   "execution_count": null,
   "metadata": {
    "id": "_jb9PV32YwO2"
   },
   "outputs": [],
   "source": []
  },
  {
   "cell_type": "code",
   "execution_count": null,
   "metadata": {
    "id": "VWN4seq7YwMS"
   },
   "outputs": [],
   "source": []
  },
  {
   "cell_type": "code",
   "execution_count": null,
   "metadata": {
    "id": "-w2yu8AtYwJv"
   },
   "outputs": [],
   "source": []
  },
  {
   "cell_type": "code",
   "execution_count": null,
   "metadata": {
    "id": "kovkE0vxYv63"
   },
   "outputs": [],
   "source": []
  },
  {
   "cell_type": "code",
   "execution_count": null,
   "metadata": {
    "id": "R3S0dOJfUPcI"
   },
   "outputs": [],
   "source": []
  }
 ],
 "metadata": {
  "colab": {
   "collapsed_sections": [],
   "name": "how-to-chip-seq.ipynb",
   "provenance": []
  },
  "kernelspec": {
   "display_name": "Python 3",
   "language": "python",
   "name": "python3"
  },
  "language_info": {
   "codemirror_mode": {
    "name": "ipython",
    "version": 3
   },
   "file_extension": ".py",
   "mimetype": "text/x-python",
   "name": "python",
   "nbconvert_exporter": "python",
   "pygments_lexer": "ipython3",
   "version": "3.8.6"
  }
 },
 "nbformat": 4,
 "nbformat_minor": 1
}
