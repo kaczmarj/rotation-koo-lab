{
 "cells": [
  {
   "cell_type": "markdown",
   "id": "rubber-clarity",
   "metadata": {},
   "source": [
    "# inspect filters of deepbind model\n",
    "\n",
    "https://www.doi.org/10.1038/nbt.3300\n",
    "\n",
    "predicts binding score $f(s) = net_W(pool(rect_b(conv_M(s))))$\n",
    "\n",
    "Find hyperparameters in [supplementary information pdf](https://static-content.springer.com/esm/art%3A10.1038%2Fnbt.3300/MediaObjects/41587_2015_BFnbt3300_MOESM51_ESM.pdf).\n",
    "\n",
    "## questions\n",
    "\n",
    "1. ReLU uses formula $Y_{i,k} = max(0, X_{i,k} - b_k)$. How do we add $b_k$? That is a tunable threshold.\n",
    "2. The maxpool operation yields a single value per motif? In other words, the pooling kernel is the same length as the motif?"
   ]
  },
  {
   "cell_type": "code",
   "execution_count": null,
   "id": "ambient-aggregate",
   "metadata": {},
   "outputs": [],
   "source": [
    "# format code with \"black\" formatter. optional\n",
    "%load_ext nb_black"
   ]
  },
  {
   "cell_type": "markdown",
   "id": "frank-directory",
   "metadata": {},
   "source": [
    "## load data"
   ]
  },
  {
   "cell_type": "code",
   "execution_count": null,
   "id": "breathing-honey",
   "metadata": {},
   "outputs": [],
   "source": [
    "!wget --timestamping https://www.dropbox.com/s/c3umbo5y13sqcfp/synthetic_dataset.h5"
   ]
  },
  {
   "cell_type": "code",
   "execution_count": null,
   "id": "leading-industry",
   "metadata": {},
   "outputs": [],
   "source": [
    "from pathlib import Path\n",
    "import h5py\n",
    "import numpy as np\n",
    "\n",
    "data_path = Path(\"synthetic_dataset.h5\")\n",
    "with h5py.File(data_path, \"r\") as dataset:\n",
    "    x_train = dataset[\"X_train\"][:].astype(np.float32)\n",
    "    y_train = dataset[\"Y_train\"][:].astype(np.float32)\n",
    "    x_valid = dataset[\"X_valid\"][:].astype(np.float32)\n",
    "    y_valid = dataset[\"Y_valid\"][:].astype(np.int32)\n",
    "    x_test = dataset[\"X_test\"][:].astype(np.float32)\n",
    "    y_test = dataset[\"Y_test\"][:].astype(np.int32)\n",
    "\n",
    "x_train = x_train.transpose([0, 2, 1])\n",
    "x_valid = x_valid.transpose([0, 2, 1])\n",
    "x_test = x_test.transpose([0, 2, 1])\n",
    "\n",
    "N, L, A = x_train.shape\n",
    "print(f\"{N} sequences, {L} nts per sequence, {A} nts in alphabet\")"
   ]
  },
  {
   "cell_type": "markdown",
   "id": "approved-sociology",
   "metadata": {},
   "source": [
    "## create model"
   ]
  },
  {
   "cell_type": "code",
   "execution_count": null,
   "id": "fuzzy-appointment",
   "metadata": {},
   "outputs": [],
   "source": [
    "import tensorflow as tf\n",
    "\n",
    "tfk = tf.keras\n",
    "tfkl = tf.keras.layers"
   ]
  },
  {
   "cell_type": "code",
   "execution_count": null,
   "id": "confused-norman",
   "metadata": {},
   "outputs": [],
   "source": [
    "# See \"Supplementary Information\" PDF\n",
    "# also see https://www.nature.com/articles/nbt.3300/figures/7\n",
    "model = tfk.Sequential(\n",
    "    [\n",
    "        tfkl.Conv1D(\n",
    "            filters=16,\n",
    "            kernel_size=24,\n",
    "            use_bias=True,\n",
    "            activation=tf.nn.relu,\n",
    "            input_shape=(L, A),\n",
    "            padding=\"same\",\n",
    "        ),\n",
    "        # Are we sure?\n",
    "        tfkl.MaxPool1D(pool_size=L),\n",
    "        tfkl.Flatten(),\n",
    "        tfkl.Dense(32, use_bias=False, activation=tf.nn.relu),\n",
    "        tfkl.Dropout(0.5),\n",
    "        tfkl.Dense(12, use_bias=True, activation=tf.nn.sigmoid),\n",
    "    ],\n",
    "    name=\"deepbind\",\n",
    ")"
   ]
  },
  {
   "cell_type": "code",
   "execution_count": null,
   "id": "phantom-conclusion",
   "metadata": {},
   "outputs": [],
   "source": [
    "metrics = [\n",
    "    tfk.metrics.AUC(curve=\"ROC\", name=\"auroc\"),\n",
    "    tfk.metrics.AUC(curve=\"PR\", name=\"aupr\"),  # precision-recall\n",
    "]\n",
    "model.compile(\n",
    "    optimizer=tfk.optimizers.Adam(learning_rate=0.001),\n",
    "    loss=tfk.losses.BinaryCrossentropy(from_logits=False),\n",
    "    metrics=metrics,\n",
    ")"
   ]
  },
  {
   "cell_type": "code",
   "execution_count": null,
   "id": "blocked-accordance",
   "metadata": {},
   "outputs": [],
   "source": [
    "callbacks = [\n",
    "    tfk.callbacks.EarlyStopping(\n",
    "        monitor=\"val_aupr\",\n",
    "        patience=20,\n",
    "        verbose=1,\n",
    "        mode=\"max\",\n",
    "        restore_best_weights=False,\n",
    "    ),\n",
    "    tfk.callbacks.ReduceLROnPlateau(\n",
    "        monitor=\"val_aupr\",\n",
    "        factor=0.2,\n",
    "        patience=5,\n",
    "        min_lr=1e-7,\n",
    "        mode=\"max\",\n",
    "        verbose=1,\n",
    "    ),\n",
    "]\n",
    "# train\n",
    "history: tfk.callbacks.History = model.fit(\n",
    "    x=x_train,\n",
    "    y=y_train,\n",
    "    batch_size=100,\n",
    "    epochs=100,\n",
    "    shuffle=True,\n",
    "    validation_data=(x_valid, y_valid),\n",
    "    callbacks=callbacks,\n",
    "    verbose=2,\n",
    ")"
   ]
  },
  {
   "cell_type": "code",
   "execution_count": null,
   "id": "labeled-radiation",
   "metadata": {},
   "outputs": [],
   "source": []
  },
  {
   "cell_type": "code",
   "execution_count": null,
   "id": "substantial-intranet",
   "metadata": {},
   "outputs": [],
   "source": []
  },
  {
   "cell_type": "code",
   "execution_count": null,
   "id": "sacred-chile",
   "metadata": {},
   "outputs": [],
   "source": []
  },
  {
   "cell_type": "code",
   "execution_count": null,
   "id": "thermal-terrain",
   "metadata": {},
   "outputs": [],
   "source": []
  },
  {
   "cell_type": "code",
   "execution_count": null,
   "id": "expanded-geneva",
   "metadata": {},
   "outputs": [],
   "source": []
  },
  {
   "cell_type": "code",
   "execution_count": null,
   "id": "important-pressing",
   "metadata": {},
   "outputs": [],
   "source": [
    "# parameters used in models\n",
    "import pandas as pd\n",
    "\n",
    "print(\"Model parameters\")\n",
    "pd.read_excel(\n",
    "    \"https://static-content.springer.com/esm/art%3A10.1038%2Fnbt.3300/MediaObjects/41587_2015_BFnbt3300_MOESM61_ESM.xlsx\"\n",
    ")"
   ]
  },
  {
   "cell_type": "code",
   "execution_count": null,
   "id": "arranged-cooper",
   "metadata": {},
   "outputs": [],
   "source": []
  }
 ],
 "metadata": {
  "kernelspec": {
   "display_name": "Python 3",
   "language": "python",
   "name": "python3"
  },
  "language_info": {
   "codemirror_mode": {
    "name": "ipython",
    "version": 3
   },
   "file_extension": ".py",
   "mimetype": "text/x-python",
   "name": "python",
   "nbconvert_exporter": "python",
   "pygments_lexer": "ipython3",
   "version": "3.8.6"
  }
 },
 "nbformat": 4,
 "nbformat_minor": 5
}
