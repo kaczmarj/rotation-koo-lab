{
 "cells": [
  {
   "cell_type": "markdown",
   "metadata": {
    "id": "wPsnR886I0-3"
   },
   "source": [
    "# chip-seq analysis\n",
    "\n",
    "cut up the genome into sequences. align them to the genome. look at distribution.\n",
    "\n",
    "## macs2 - peak caller\n",
    "\n",
    "output is bedfile. has chromosome, start, strand information. this is where we come in.\n",
    "\n",
    "We love [ENCODE](https://www.encodeproject.org). Encyclopedia of DNA Elements. This has lots of non-coding DNA elements (which is often regulatory).\n",
    "\n",
    "How do we know if a DNA region is regulatory? Just because a protein binds to it does not necessarily mean it is biologically meaningful. \n",
    "\n",
    "We want to narrow down to TF ChIP-seq experiments.\n",
    "\n",
    "For example, https://www.encodeproject.org/experiments/ENCSR000DRZ/\n",
    "\n",
    "- BAM file has alignements.\n",
    "- bigWig allows you to visualize data on genome browser (nice for presentations). Shush and Amber have been doing this with ChIP-seq peaks.\n",
    "\n",
    "We are most interested in BED files. Want to use merged data (replicates 1,2 for example). Go with \"conservative IDR thresholded peaks\" (though there are many more).\n",
    "\n",
    "## todo:\n",
    "- [ ] generate about 10 datasets."
   ]
  },
  {
   "cell_type": "markdown",
   "metadata": {},
   "source": [
    "## Get reference genome(s)"
   ]
  },
  {
   "cell_type": "code",
   "execution_count": 2,
   "metadata": {},
   "outputs": [
    {
     "data": {
      "application/javascript": [
       "\n",
       "            setTimeout(function() {\n",
       "                var nbb_cell_id = 2;\n",
       "                var nbb_unformatted_code = \"%%bash\\nmkdir -p references\\ncd references\\nif [ ! -f hg19.fa ]; then\\n    curl -fL https://hgdownload.cse.ucsc.edu/goldenPath/hg19/bigZips/hg19.fa.gz | gunzip > hg19.fa\\nfi\\nif [ ! -f hg38.fa ]; then\\n    curl -fL https://hgdownload.cse.ucsc.edu/goldenPath/hg38/bigZips/hg38.fa.gz | gunzip > hg38.fa\\nfi\";\n",
       "                var nbb_formatted_code = \"%%bash\\nmkdir -p references\\ncd references\\nif [ ! -f hg19.fa ]; then\\n    curl -fL https://hgdownload.cse.ucsc.edu/goldenPath/hg19/bigZips/hg19.fa.gz | gunzip > hg19.fa\\nfi\\nif [ ! -f hg38.fa ]; then\\n    curl -fL https://hgdownload.cse.ucsc.edu/goldenPath/hg38/bigZips/hg38.fa.gz | gunzip > hg38.fa\\nfi\";\n",
       "                var nbb_cells = Jupyter.notebook.get_cells();\n",
       "                for (var i = 0; i < nbb_cells.length; ++i) {\n",
       "                    if (nbb_cells[i].input_prompt_number == nbb_cell_id) {\n",
       "                        if (nbb_cells[i].get_text() == nbb_unformatted_code) {\n",
       "                             nbb_cells[i].set_text(nbb_formatted_code);\n",
       "                        }\n",
       "                        break;\n",
       "                    }\n",
       "                }\n",
       "            }, 500);\n",
       "            "
      ],
      "text/plain": [
       "<IPython.core.display.Javascript object>"
      ]
     },
     "metadata": {},
     "output_type": "display_data"
    }
   ],
   "source": [
    "%%bash\n",
    "mkdir -p references\n",
    "cd references\n",
    "if [ ! -f hg19.fa ]; then\n",
    "    curl -fL https://hgdownload.cse.ucsc.edu/goldenPath/hg19/bigZips/hg19.fa.gz | gunzip > hg19.fa\n",
    "fi\n",
    "if [ ! -f hg38.fa ]; then\n",
    "    curl -fL https://hgdownload.cse.ucsc.edu/goldenPath/hg38/bigZips/hg38.fa.gz | gunzip > hg38.fa\n",
    "fi"
   ]
  },
  {
   "cell_type": "markdown",
   "metadata": {},
   "source": [
    "## Process positives and negative peaks\n",
    "\n",
    "Go from BED file to one-hot encoded output."
   ]
  },
  {
   "cell_type": "code",
   "execution_count": 3,
   "metadata": {},
   "outputs": [
    {
     "data": {
      "application/javascript": [
       "\n",
       "            setTimeout(function() {\n",
       "                var nbb_cell_id = 3;\n",
       "                var nbb_unformatted_code = \"from collections import namedtuple\\nfrom pathlib import Path\\n\\nimport chipseq_utils\\nimport h5py\\nimport numpy as np\\n\\ndatasets_dir = Path(\\\"datasets\\\")\\nreferences_dir = Path(\\\"references\\\")\\nreference_hg19 = references_dir / \\\"hg19.fa\\\"\\nreference_hg38 = references_dir / \\\"hg38.fa\\\"\\n\\nassert reference_hg19.exists()\\nassert reference_hg38.exists()\\n\\ndataset = namedtuple(\\n    \\\"Dataset\\\",\\n    [\\n        \\\"path\\\",\\n        \\\"positive_encode_url\\\",\\n        \\\"positive_bed_url\\\",\\n        \\\"negative_encode_url\\\",\\n        \\\"negative_bed_url\\\",\\n        \\\"reference_genome_fasta\\\",\\n        \\\"summary\\\",\\n    ],\\n)\\n\\ndatasets = [\\n    dataset(\\n        path=datasets_dir / \\\"CTCF\\\" / \\\"hg19\\\" / \\\"ENCSR000DRZ_ENCSR000EMT\\\",\\n        positive_encode_url=\\\"https://www.encodeproject.org/experiments/ENCSR000DRZ/\\\",\\n        positive_bed_url=\\\"https://www.encodeproject.org/files/ENCFF963PJY/@@download/ENCFF963PJY.bed.gz\\\",\\n        negative_encode_url=\\\"https://www.encodeproject.org/experiments/ENCSR000EMT/\\\",\\n        negative_bed_url=\\\"https://www.encodeproject.org/files/ENCFF097LEF/@@download/ENCFF097LEF.bed.gz\\\",\\n        reference_genome_fasta=reference_hg19,\\n        summary=\\\"\\\"\\\"\\\\\\nPositive reads are from CTCF ChIP-seq on human GM12878.\\nNegative reads are from DNase-seq on human GM12878.\\nReference is hg19.\\\"\\\"\\\",\\n    ),\\n    dataset(\\n        path=datasets_dir / \\\"CTCF\\\" / \\\"hg38\\\" / \\\"ENCSR000DZN_ENCSR000EMT\\\",\\n        positive_encode_url=\\\"https://www.encodeproject.org/experiments/ENCSR000DZN/\\\",\\n        positive_bed_url=\\\"https://www.encodeproject.org/files/ENCFF796WRU/@@download/ENCFF796WRU.bed.gz\\\",\\n        negative_encode_url=\\\"https://www.encodeproject.org/experiments/ENCSR000EMT/\\\",\\n        negative_bed_url=\\\"https://www.encodeproject.org/files/ENCFF195QAV/@@download/ENCFF195QAV.bed.gz\\\",\\n        reference_genome_fasta=reference_hg38,\\n        summary=\\\"\\\"\\\"\\\\\\nPositive reads are from CTCF ChIP-seq on human GM12878.\\nNegative reads are from DNase-seq on human GM12878.\\nReference is GRCh38 (hg38).\\\"\\\"\\\",\\n    ),\\n    dataset(\\n        path=datasets_dir / \\\"CTCF\\\" / \\\"hg38\\\" / \\\"ENCSR000AKB_ENCSR000EMT\\\",\\n        positive_encode_url=\\\"https://www.encodeproject.org/experiments/ENCSR000AKB/\\\",\\n        positive_bed_url=\\\"https://www.encodeproject.org/files/ENCFF017XLW/@@download/ENCFF017XLW.bed.gz\\\",\\n        negative_encode_url=\\\"https://www.encodeproject.org/experiments/ENCSR000EMT/\\\",\\n        negative_bed_url=\\\"https://www.encodeproject.org/files/ENCFF195QAV/@@download/ENCFF195QAV.bed.gz\\\",\\n        reference_genome_fasta=reference_hg38,\\n        summary=\\\"\\\"\\\"\\\\\\nPositive reads are from CTCF ChIP-seq on human GM12878.\\nNegative reads are from DNase-seq on human GM12878.\\nReference is GRCh38 (hg38).\\\"\\\"\\\",\\n    ),\\n    dataset(\\n        path=datasets_dir / \\\"CTCF\\\" / \\\"hg19\\\" / \\\"ENCSR000AKB_ENCSR000EMT\\\",\\n        positive_encode_url=\\\"https://www.encodeproject.org/experiments/ENCSR000AKB/\\\",\\n        positive_bed_url=\\\"https://www.encodeproject.org/files/ENCFF096AKZ/@@download/ENCFF096AKZ.bed.gz\\\",\\n        negative_encode_url=\\\"https://www.encodeproject.org/experiments/ENCSR000EMT/\\\",\\n        negative_bed_url=\\\"https://www.encodeproject.org/files/ENCFF097LEF/@@download/ENCFF097LEF.bed.gz\\\",\\n        reference_genome_fasta=reference_hg19,\\n        summary=\\\"\\\"\\\"\\\\\\nPositive reads are from CTCF ChIP-seq on human GM12878.\\nNegative reads are from DNase-seq on human GM12878.\\nReference is hg19.\\\"\\\"\\\",\\n    ),\\n    dataset(\\n        path=datasets_dir / \\\"CTCF\\\" / \\\"hg38\\\" / \\\"ENCSR000DKV_ENCSR000EMT\\\",\\n        positive_encode_url=\\\"https://www.encodeproject.org/experiments/ENCSR000DKV/\\\",\\n        positive_bed_url=\\\"https://www.encodeproject.org/files/ENCFF258AFQ/@@download/ENCFF258AFQ.bed.gz\\\",\\n        negative_encode_url=\\\"https://www.encodeproject.org/experiments/ENCSR000EMT/\\\",\\n        negative_bed_url=\\\"https://www.encodeproject.org/files/ENCFF195QAV/@@download/ENCFF195QAV.bed.gz\\\",\\n        reference_genome_fasta=reference_hg38,\\n        summary=\\\"\\\"\\\"\\\\\\nPositive reads are from CTCF ChIP-seq on human GM12878.\\nNegative reads are from DNase-seq on human GM12878.\\nReference is GRCh38 (hg38).\\\"\\\"\\\",\\n    ),\\n    dataset(\\n        path=datasets_dir / \\\"CTCF\\\" / \\\"hg38\\\" / \\\"ENCSR560BUE_ENCSR000EPH\\\",\\n        positive_encode_url=\\\"https://www.encodeproject.org/experiments/ENCSR560BUE/\\\",\\n        positive_bed_url=\\\"https://www.encodeproject.org/files/ENCFF203DXT/@@download/ENCFF203DXT.bed.gz\\\",\\n        negative_encode_url=\\\"https://www.encodeproject.org/experiments/ENCSR000EPH/\\\",\\n        negative_bed_url=\\\"https://www.encodeproject.org/files/ENCFF886OJN/@@download/ENCFF886OJN.bed.gz\\\",\\n        reference_genome_fasta=reference_hg38,\\n        summary=\\\"\\\"\\\"\\\\\\nPositive reads are from CTCF ChIP-seq on human MCF-7.\\nNegative reads are from DNase-seq on human MCF-7 treated with estradiol at 100nM for 0 hour (control).\\nReference is GRCh38 (hg38).\\\"\\\"\\\",\\n    ),\\n    dataset(\\n        path=datasets_dir / \\\"CTCF\\\" / \\\"hg19\\\" / \\\"ENCSR560BUE_ENCSR000EPH\\\",\\n        positive_encode_url=\\\"https://www.encodeproject.org/experiments/ENCSR560BUE/\\\",\\n        positive_bed_url=\\\"https://www.encodeproject.org/files/ENCFF990LUT/@@download/ENCFF990LUT.bed.gz\\\",\\n        negative_encode_url=\\\"https://www.encodeproject.org/experiments/ENCSR000EPH/\\\",\\n        negative_bed_url=\\\"https://www.encodeproject.org/files/ENCFF846DFL/@@download/ENCFF846DFL.bed.gz\\\",\\n        reference_genome_fasta=reference_hg19,\\n        summary=\\\"\\\"\\\"\\\\\\nPositive reads are from CTCF ChIP-seq on human MCF-7.\\nNegative reads are from DNase-seq on human MCF-7 treated with estradiol at 100nM for 0 hour (control).\\nReference is hg19.\\\"\\\"\\\",\\n    ),\\n    dataset(\\n        path=datasets_dir / \\\"CTCF\\\" / \\\"hg38\\\" / \\\"ENCSR000DWH_ENCSR000EPH\\\",\\n        positive_encode_url=\\\"https://www.encodeproject.org/experiments/ENCSR000DWH/\\\",\\n        positive_bed_url=\\\"https://www.encodeproject.org/files/ENCFF742FBX/@@download/ENCFF742FBX.bed.gz\\\",\\n        negative_encode_url=\\\"https://www.encodeproject.org/experiments/ENCSR000EPH/\\\",\\n        negative_bed_url=\\\"https://www.encodeproject.org/files/ENCFF886OJN/@@download/ENCFF886OJN.bed.gz\\\",\\n        reference_genome_fasta=reference_hg38,\\n        summary=\\\"\\\"\\\"\\\\\\nPositive reads are from CTCF ChIP-seq on human MCF-7.\\nNegative reads are from DNase-seq on human MCF-7 treated with estradiol at 100nM for 0 hour (control).\\nReference is GRCH38 (hg38).\\n\\\"\\\"\\\",\\n    ),\\n    dataset(\\n        path=datasets_dir / \\\"CTCF\\\" / \\\"hg19\\\" / \\\"ENCSR000DWH_ENCSR000EPH\\\",\\n        positive_encode_url=\\\"https://www.encodeproject.org/experiments/ENCSR000DWH/\\\",\\n        positive_bed_url=\\\"https://www.encodeproject.org/files/ENCFF720OXG/@@download/ENCFF720OXG.bed.gz\\\",\\n        negative_encode_url=\\\"https://www.encodeproject.org/experiments/ENCSR000EPH/\\\",\\n        negative_bed_url=\\\"https://www.encodeproject.org/files/ENCFF846DFL/@@download/ENCFF846DFL.bed.gz\\\",\\n        reference_genome_fasta=reference_hg19,\\n        summary=\\\"\\\"\\\"\\\\\\nPositive reads are from CTCF ChIP-seq on human MCF-7.\\nNegative reads are from DNase-seq on human MCF-7 treated with estradiol at 100nM for 0 hour (control).\\nReference is hg19.\\\"\\\"\\\",\\n    ),\\n    dataset(\\n        path=datasets_dir / \\\"CTCF\\\" / \\\"hg38\\\" / \\\"ENCSR000DMV_ENCSR000EPH\\\",\\n        positive_encode_url=\\\"https://www.encodeproject.org/experiments/ENCSR000DMV/\\\",\\n        positive_bed_url=\\\"https://www.encodeproject.org/files/ENCFF663NFF/@@download/ENCFF663NFF.bed.gz\\\",\\n        negative_encode_url=\\\"https://www.encodeproject.org/experiments/ENCSR000EPH/\\\",\\n        negative_bed_url=\\\"https://www.encodeproject.org/files/ENCFF886OJN/@@download/ENCFF886OJN.bed.gz\\\",\\n        reference_genome_fasta=reference_hg38,\\n        summary=\\\"\\\"\\\"\\\\\\nPositive reads are from CTCF ChIP-seq on human MCF-7.\\nNegative reads are from DNase-seq on human MCF-7 treated with estradiol at 100nM for 0 hour (control).\\nReference is GRCH38 (hg38).\\n\\\"\\\"\\\",\\n    ),\\n]\";\n",
       "                var nbb_formatted_code = \"from collections import namedtuple\\nfrom pathlib import Path\\n\\nimport chipseq_utils\\nimport h5py\\nimport numpy as np\\n\\ndatasets_dir = Path(\\\"datasets\\\")\\nreferences_dir = Path(\\\"references\\\")\\nreference_hg19 = references_dir / \\\"hg19.fa\\\"\\nreference_hg38 = references_dir / \\\"hg38.fa\\\"\\n\\nassert reference_hg19.exists()\\nassert reference_hg38.exists()\\n\\ndataset = namedtuple(\\n    \\\"Dataset\\\",\\n    [\\n        \\\"path\\\",\\n        \\\"positive_encode_url\\\",\\n        \\\"positive_bed_url\\\",\\n        \\\"negative_encode_url\\\",\\n        \\\"negative_bed_url\\\",\\n        \\\"reference_genome_fasta\\\",\\n        \\\"summary\\\",\\n    ],\\n)\\n\\ndatasets = [\\n    dataset(\\n        path=datasets_dir / \\\"CTCF\\\" / \\\"hg19\\\" / \\\"ENCSR000DRZ_ENCSR000EMT\\\",\\n        positive_encode_url=\\\"https://www.encodeproject.org/experiments/ENCSR000DRZ/\\\",\\n        positive_bed_url=\\\"https://www.encodeproject.org/files/ENCFF963PJY/@@download/ENCFF963PJY.bed.gz\\\",\\n        negative_encode_url=\\\"https://www.encodeproject.org/experiments/ENCSR000EMT/\\\",\\n        negative_bed_url=\\\"https://www.encodeproject.org/files/ENCFF097LEF/@@download/ENCFF097LEF.bed.gz\\\",\\n        reference_genome_fasta=reference_hg19,\\n        summary=\\\"\\\"\\\"\\\\\\nPositive reads are from CTCF ChIP-seq on human GM12878.\\nNegative reads are from DNase-seq on human GM12878.\\nReference is hg19.\\\"\\\"\\\",\\n    ),\\n    dataset(\\n        path=datasets_dir / \\\"CTCF\\\" / \\\"hg38\\\" / \\\"ENCSR000DZN_ENCSR000EMT\\\",\\n        positive_encode_url=\\\"https://www.encodeproject.org/experiments/ENCSR000DZN/\\\",\\n        positive_bed_url=\\\"https://www.encodeproject.org/files/ENCFF796WRU/@@download/ENCFF796WRU.bed.gz\\\",\\n        negative_encode_url=\\\"https://www.encodeproject.org/experiments/ENCSR000EMT/\\\",\\n        negative_bed_url=\\\"https://www.encodeproject.org/files/ENCFF195QAV/@@download/ENCFF195QAV.bed.gz\\\",\\n        reference_genome_fasta=reference_hg38,\\n        summary=\\\"\\\"\\\"\\\\\\nPositive reads are from CTCF ChIP-seq on human GM12878.\\nNegative reads are from DNase-seq on human GM12878.\\nReference is GRCh38 (hg38).\\\"\\\"\\\",\\n    ),\\n    dataset(\\n        path=datasets_dir / \\\"CTCF\\\" / \\\"hg38\\\" / \\\"ENCSR000AKB_ENCSR000EMT\\\",\\n        positive_encode_url=\\\"https://www.encodeproject.org/experiments/ENCSR000AKB/\\\",\\n        positive_bed_url=\\\"https://www.encodeproject.org/files/ENCFF017XLW/@@download/ENCFF017XLW.bed.gz\\\",\\n        negative_encode_url=\\\"https://www.encodeproject.org/experiments/ENCSR000EMT/\\\",\\n        negative_bed_url=\\\"https://www.encodeproject.org/files/ENCFF195QAV/@@download/ENCFF195QAV.bed.gz\\\",\\n        reference_genome_fasta=reference_hg38,\\n        summary=\\\"\\\"\\\"\\\\\\nPositive reads are from CTCF ChIP-seq on human GM12878.\\nNegative reads are from DNase-seq on human GM12878.\\nReference is GRCh38 (hg38).\\\"\\\"\\\",\\n    ),\\n    dataset(\\n        path=datasets_dir / \\\"CTCF\\\" / \\\"hg19\\\" / \\\"ENCSR000AKB_ENCSR000EMT\\\",\\n        positive_encode_url=\\\"https://www.encodeproject.org/experiments/ENCSR000AKB/\\\",\\n        positive_bed_url=\\\"https://www.encodeproject.org/files/ENCFF096AKZ/@@download/ENCFF096AKZ.bed.gz\\\",\\n        negative_encode_url=\\\"https://www.encodeproject.org/experiments/ENCSR000EMT/\\\",\\n        negative_bed_url=\\\"https://www.encodeproject.org/files/ENCFF097LEF/@@download/ENCFF097LEF.bed.gz\\\",\\n        reference_genome_fasta=reference_hg19,\\n        summary=\\\"\\\"\\\"\\\\\\nPositive reads are from CTCF ChIP-seq on human GM12878.\\nNegative reads are from DNase-seq on human GM12878.\\nReference is hg19.\\\"\\\"\\\",\\n    ),\\n    dataset(\\n        path=datasets_dir / \\\"CTCF\\\" / \\\"hg38\\\" / \\\"ENCSR000DKV_ENCSR000EMT\\\",\\n        positive_encode_url=\\\"https://www.encodeproject.org/experiments/ENCSR000DKV/\\\",\\n        positive_bed_url=\\\"https://www.encodeproject.org/files/ENCFF258AFQ/@@download/ENCFF258AFQ.bed.gz\\\",\\n        negative_encode_url=\\\"https://www.encodeproject.org/experiments/ENCSR000EMT/\\\",\\n        negative_bed_url=\\\"https://www.encodeproject.org/files/ENCFF195QAV/@@download/ENCFF195QAV.bed.gz\\\",\\n        reference_genome_fasta=reference_hg38,\\n        summary=\\\"\\\"\\\"\\\\\\nPositive reads are from CTCF ChIP-seq on human GM12878.\\nNegative reads are from DNase-seq on human GM12878.\\nReference is GRCh38 (hg38).\\\"\\\"\\\",\\n    ),\\n    dataset(\\n        path=datasets_dir / \\\"CTCF\\\" / \\\"hg38\\\" / \\\"ENCSR560BUE_ENCSR000EPH\\\",\\n        positive_encode_url=\\\"https://www.encodeproject.org/experiments/ENCSR560BUE/\\\",\\n        positive_bed_url=\\\"https://www.encodeproject.org/files/ENCFF203DXT/@@download/ENCFF203DXT.bed.gz\\\",\\n        negative_encode_url=\\\"https://www.encodeproject.org/experiments/ENCSR000EPH/\\\",\\n        negative_bed_url=\\\"https://www.encodeproject.org/files/ENCFF886OJN/@@download/ENCFF886OJN.bed.gz\\\",\\n        reference_genome_fasta=reference_hg38,\\n        summary=\\\"\\\"\\\"\\\\\\nPositive reads are from CTCF ChIP-seq on human MCF-7.\\nNegative reads are from DNase-seq on human MCF-7 treated with estradiol at 100nM for 0 hour (control).\\nReference is GRCh38 (hg38).\\\"\\\"\\\",\\n    ),\\n    dataset(\\n        path=datasets_dir / \\\"CTCF\\\" / \\\"hg19\\\" / \\\"ENCSR560BUE_ENCSR000EPH\\\",\\n        positive_encode_url=\\\"https://www.encodeproject.org/experiments/ENCSR560BUE/\\\",\\n        positive_bed_url=\\\"https://www.encodeproject.org/files/ENCFF990LUT/@@download/ENCFF990LUT.bed.gz\\\",\\n        negative_encode_url=\\\"https://www.encodeproject.org/experiments/ENCSR000EPH/\\\",\\n        negative_bed_url=\\\"https://www.encodeproject.org/files/ENCFF846DFL/@@download/ENCFF846DFL.bed.gz\\\",\\n        reference_genome_fasta=reference_hg19,\\n        summary=\\\"\\\"\\\"\\\\\\nPositive reads are from CTCF ChIP-seq on human MCF-7.\\nNegative reads are from DNase-seq on human MCF-7 treated with estradiol at 100nM for 0 hour (control).\\nReference is hg19.\\\"\\\"\\\",\\n    ),\\n    dataset(\\n        path=datasets_dir / \\\"CTCF\\\" / \\\"hg38\\\" / \\\"ENCSR000DWH_ENCSR000EPH\\\",\\n        positive_encode_url=\\\"https://www.encodeproject.org/experiments/ENCSR000DWH/\\\",\\n        positive_bed_url=\\\"https://www.encodeproject.org/files/ENCFF742FBX/@@download/ENCFF742FBX.bed.gz\\\",\\n        negative_encode_url=\\\"https://www.encodeproject.org/experiments/ENCSR000EPH/\\\",\\n        negative_bed_url=\\\"https://www.encodeproject.org/files/ENCFF886OJN/@@download/ENCFF886OJN.bed.gz\\\",\\n        reference_genome_fasta=reference_hg38,\\n        summary=\\\"\\\"\\\"\\\\\\nPositive reads are from CTCF ChIP-seq on human MCF-7.\\nNegative reads are from DNase-seq on human MCF-7 treated with estradiol at 100nM for 0 hour (control).\\nReference is GRCH38 (hg38).\\n\\\"\\\"\\\",\\n    ),\\n    dataset(\\n        path=datasets_dir / \\\"CTCF\\\" / \\\"hg19\\\" / \\\"ENCSR000DWH_ENCSR000EPH\\\",\\n        positive_encode_url=\\\"https://www.encodeproject.org/experiments/ENCSR000DWH/\\\",\\n        positive_bed_url=\\\"https://www.encodeproject.org/files/ENCFF720OXG/@@download/ENCFF720OXG.bed.gz\\\",\\n        negative_encode_url=\\\"https://www.encodeproject.org/experiments/ENCSR000EPH/\\\",\\n        negative_bed_url=\\\"https://www.encodeproject.org/files/ENCFF846DFL/@@download/ENCFF846DFL.bed.gz\\\",\\n        reference_genome_fasta=reference_hg19,\\n        summary=\\\"\\\"\\\"\\\\\\nPositive reads are from CTCF ChIP-seq on human MCF-7.\\nNegative reads are from DNase-seq on human MCF-7 treated with estradiol at 100nM for 0 hour (control).\\nReference is hg19.\\\"\\\"\\\",\\n    ),\\n    dataset(\\n        path=datasets_dir / \\\"CTCF\\\" / \\\"hg38\\\" / \\\"ENCSR000DMV_ENCSR000EPH\\\",\\n        positive_encode_url=\\\"https://www.encodeproject.org/experiments/ENCSR000DMV/\\\",\\n        positive_bed_url=\\\"https://www.encodeproject.org/files/ENCFF663NFF/@@download/ENCFF663NFF.bed.gz\\\",\\n        negative_encode_url=\\\"https://www.encodeproject.org/experiments/ENCSR000EPH/\\\",\\n        negative_bed_url=\\\"https://www.encodeproject.org/files/ENCFF886OJN/@@download/ENCFF886OJN.bed.gz\\\",\\n        reference_genome_fasta=reference_hg38,\\n        summary=\\\"\\\"\\\"\\\\\\nPositive reads are from CTCF ChIP-seq on human MCF-7.\\nNegative reads are from DNase-seq on human MCF-7 treated with estradiol at 100nM for 0 hour (control).\\nReference is GRCH38 (hg38).\\n\\\"\\\"\\\",\\n    ),\\n]\";\n",
       "                var nbb_cells = Jupyter.notebook.get_cells();\n",
       "                for (var i = 0; i < nbb_cells.length; ++i) {\n",
       "                    if (nbb_cells[i].input_prompt_number == nbb_cell_id) {\n",
       "                        if (nbb_cells[i].get_text() == nbb_unformatted_code) {\n",
       "                             nbb_cells[i].set_text(nbb_formatted_code);\n",
       "                        }\n",
       "                        break;\n",
       "                    }\n",
       "                }\n",
       "            }, 500);\n",
       "            "
      ],
      "text/plain": [
       "<IPython.core.display.Javascript object>"
      ]
     },
     "metadata": {},
     "output_type": "display_data"
    }
   ],
   "source": [
    "from collections import namedtuple\n",
    "from pathlib import Path\n",
    "\n",
    "import chipseq_utils\n",
    "import h5py\n",
    "import numpy as np\n",
    "\n",
    "datasets_dir = Path(\"datasets\")\n",
    "references_dir = Path(\"references\")\n",
    "reference_hg19 = references_dir / \"hg19.fa\"\n",
    "reference_hg38 = references_dir / \"hg38.fa\"\n",
    "\n",
    "assert reference_hg19.exists()\n",
    "assert reference_hg38.exists()\n",
    "\n",
    "dataset = namedtuple(\n",
    "    \"Dataset\",\n",
    "    [\n",
    "        \"path\",\n",
    "        \"positive_encode_url\",\n",
    "        \"positive_bed_url\",\n",
    "        \"negative_encode_url\",\n",
    "        \"negative_bed_url\",\n",
    "        \"reference_genome_fasta\",\n",
    "        \"summary\",\n",
    "    ],\n",
    ")\n",
    "\n",
    "datasets = [\n",
    "    dataset(\n",
    "        path=datasets_dir / \"CTCF\" / \"hg19\" / \"ENCSR000DRZ_ENCSR000EMT\",\n",
    "        positive_encode_url=\"https://www.encodeproject.org/experiments/ENCSR000DRZ/\",\n",
    "        positive_bed_url=\"https://www.encodeproject.org/files/ENCFF963PJY/@@download/ENCFF963PJY.bed.gz\",\n",
    "        negative_encode_url=\"https://www.encodeproject.org/experiments/ENCSR000EMT/\",\n",
    "        negative_bed_url=\"https://www.encodeproject.org/files/ENCFF097LEF/@@download/ENCFF097LEF.bed.gz\",\n",
    "        reference_genome_fasta=reference_hg19,\n",
    "        summary=\"\"\"\\\n",
    "Positive reads are from CTCF ChIP-seq on human GM12878.\n",
    "Negative reads are from DNase-seq on human GM12878.\n",
    "Reference is hg19.\"\"\",\n",
    "    ),\n",
    "    dataset(\n",
    "        path=datasets_dir / \"CTCF\" / \"hg38\" / \"ENCSR000DZN_ENCSR000EMT\",\n",
    "        positive_encode_url=\"https://www.encodeproject.org/experiments/ENCSR000DZN/\",\n",
    "        positive_bed_url=\"https://www.encodeproject.org/files/ENCFF796WRU/@@download/ENCFF796WRU.bed.gz\",\n",
    "        negative_encode_url=\"https://www.encodeproject.org/experiments/ENCSR000EMT/\",\n",
    "        negative_bed_url=\"https://www.encodeproject.org/files/ENCFF195QAV/@@download/ENCFF195QAV.bed.gz\",\n",
    "        reference_genome_fasta=reference_hg38,\n",
    "        summary=\"\"\"\\\n",
    "Positive reads are from CTCF ChIP-seq on human GM12878.\n",
    "Negative reads are from DNase-seq on human GM12878.\n",
    "Reference is GRCh38 (hg38).\"\"\",\n",
    "    ),\n",
    "    dataset(\n",
    "        path=datasets_dir / \"CTCF\" / \"hg38\" / \"ENCSR000AKB_ENCSR000EMT\",\n",
    "        positive_encode_url=\"https://www.encodeproject.org/experiments/ENCSR000AKB/\",\n",
    "        positive_bed_url=\"https://www.encodeproject.org/files/ENCFF017XLW/@@download/ENCFF017XLW.bed.gz\",\n",
    "        negative_encode_url=\"https://www.encodeproject.org/experiments/ENCSR000EMT/\",\n",
    "        negative_bed_url=\"https://www.encodeproject.org/files/ENCFF195QAV/@@download/ENCFF195QAV.bed.gz\",\n",
    "        reference_genome_fasta=reference_hg38,\n",
    "        summary=\"\"\"\\\n",
    "Positive reads are from CTCF ChIP-seq on human GM12878.\n",
    "Negative reads are from DNase-seq on human GM12878.\n",
    "Reference is GRCh38 (hg38).\"\"\",\n",
    "    ),\n",
    "    dataset(\n",
    "        path=datasets_dir / \"CTCF\" / \"hg19\" / \"ENCSR000AKB_ENCSR000EMT\",\n",
    "        positive_encode_url=\"https://www.encodeproject.org/experiments/ENCSR000AKB/\",\n",
    "        positive_bed_url=\"https://www.encodeproject.org/files/ENCFF096AKZ/@@download/ENCFF096AKZ.bed.gz\",\n",
    "        negative_encode_url=\"https://www.encodeproject.org/experiments/ENCSR000EMT/\",\n",
    "        negative_bed_url=\"https://www.encodeproject.org/files/ENCFF097LEF/@@download/ENCFF097LEF.bed.gz\",\n",
    "        reference_genome_fasta=reference_hg19,\n",
    "        summary=\"\"\"\\\n",
    "Positive reads are from CTCF ChIP-seq on human GM12878.\n",
    "Negative reads are from DNase-seq on human GM12878.\n",
    "Reference is hg19.\"\"\",\n",
    "    ),\n",
    "    dataset(\n",
    "        path=datasets_dir / \"CTCF\" / \"hg38\" / \"ENCSR000DKV_ENCSR000EMT\",\n",
    "        positive_encode_url=\"https://www.encodeproject.org/experiments/ENCSR000DKV/\",\n",
    "        positive_bed_url=\"https://www.encodeproject.org/files/ENCFF258AFQ/@@download/ENCFF258AFQ.bed.gz\",\n",
    "        negative_encode_url=\"https://www.encodeproject.org/experiments/ENCSR000EMT/\",\n",
    "        negative_bed_url=\"https://www.encodeproject.org/files/ENCFF195QAV/@@download/ENCFF195QAV.bed.gz\",\n",
    "        reference_genome_fasta=reference_hg38,\n",
    "        summary=\"\"\"\\\n",
    "Positive reads are from CTCF ChIP-seq on human GM12878.\n",
    "Negative reads are from DNase-seq on human GM12878.\n",
    "Reference is GRCh38 (hg38).\"\"\",\n",
    "    ),\n",
    "    dataset(\n",
    "        path=datasets_dir / \"CTCF\" / \"hg38\" / \"ENCSR560BUE_ENCSR000EPH\",\n",
    "        positive_encode_url=\"https://www.encodeproject.org/experiments/ENCSR560BUE/\",\n",
    "        positive_bed_url=\"https://www.encodeproject.org/files/ENCFF203DXT/@@download/ENCFF203DXT.bed.gz\",\n",
    "        negative_encode_url=\"https://www.encodeproject.org/experiments/ENCSR000EPH/\",\n",
    "        negative_bed_url=\"https://www.encodeproject.org/files/ENCFF886OJN/@@download/ENCFF886OJN.bed.gz\",\n",
    "        reference_genome_fasta=reference_hg38,\n",
    "        summary=\"\"\"\\\n",
    "Positive reads are from CTCF ChIP-seq on human MCF-7.\n",
    "Negative reads are from DNase-seq on human MCF-7 treated with estradiol at 100nM for 0 hour (control).\n",
    "Reference is GRCh38 (hg38).\"\"\",\n",
    "    ),\n",
    "    dataset(\n",
    "        path=datasets_dir / \"CTCF\" / \"hg19\" / \"ENCSR560BUE_ENCSR000EPH\",\n",
    "        positive_encode_url=\"https://www.encodeproject.org/experiments/ENCSR560BUE/\",\n",
    "        positive_bed_url=\"https://www.encodeproject.org/files/ENCFF990LUT/@@download/ENCFF990LUT.bed.gz\",\n",
    "        negative_encode_url=\"https://www.encodeproject.org/experiments/ENCSR000EPH/\",\n",
    "        negative_bed_url=\"https://www.encodeproject.org/files/ENCFF846DFL/@@download/ENCFF846DFL.bed.gz\",\n",
    "        reference_genome_fasta=reference_hg19,\n",
    "        summary=\"\"\"\\\n",
    "Positive reads are from CTCF ChIP-seq on human MCF-7.\n",
    "Negative reads are from DNase-seq on human MCF-7 treated with estradiol at 100nM for 0 hour (control).\n",
    "Reference is hg19.\"\"\",\n",
    "    ),\n",
    "    dataset(\n",
    "        path=datasets_dir / \"CTCF\" / \"hg38\" / \"ENCSR000DWH_ENCSR000EPH\",\n",
    "        positive_encode_url=\"https://www.encodeproject.org/experiments/ENCSR000DWH/\",\n",
    "        positive_bed_url=\"https://www.encodeproject.org/files/ENCFF742FBX/@@download/ENCFF742FBX.bed.gz\",\n",
    "        negative_encode_url=\"https://www.encodeproject.org/experiments/ENCSR000EPH/\",\n",
    "        negative_bed_url=\"https://www.encodeproject.org/files/ENCFF886OJN/@@download/ENCFF886OJN.bed.gz\",\n",
    "        reference_genome_fasta=reference_hg38,\n",
    "        summary=\"\"\"\\\n",
    "Positive reads are from CTCF ChIP-seq on human MCF-7.\n",
    "Negative reads are from DNase-seq on human MCF-7 treated with estradiol at 100nM for 0 hour (control).\n",
    "Reference is GRCH38 (hg38).\n",
    "\"\"\",\n",
    "    ),\n",
    "    dataset(\n",
    "        path=datasets_dir / \"CTCF\" / \"hg19\" / \"ENCSR000DWH_ENCSR000EPH\",\n",
    "        positive_encode_url=\"https://www.encodeproject.org/experiments/ENCSR000DWH/\",\n",
    "        positive_bed_url=\"https://www.encodeproject.org/files/ENCFF720OXG/@@download/ENCFF720OXG.bed.gz\",\n",
    "        negative_encode_url=\"https://www.encodeproject.org/experiments/ENCSR000EPH/\",\n",
    "        negative_bed_url=\"https://www.encodeproject.org/files/ENCFF846DFL/@@download/ENCFF846DFL.bed.gz\",\n",
    "        reference_genome_fasta=reference_hg19,\n",
    "        summary=\"\"\"\\\n",
    "Positive reads are from CTCF ChIP-seq on human MCF-7.\n",
    "Negative reads are from DNase-seq on human MCF-7 treated with estradiol at 100nM for 0 hour (control).\n",
    "Reference is hg19.\"\"\",\n",
    "    ),\n",
    "    dataset(\n",
    "        path=datasets_dir / \"CTCF\" / \"hg38\" / \"ENCSR000DMV_ENCSR000EPH\",\n",
    "        positive_encode_url=\"https://www.encodeproject.org/experiments/ENCSR000DMV/\",\n",
    "        positive_bed_url=\"https://www.encodeproject.org/files/ENCFF663NFF/@@download/ENCFF663NFF.bed.gz\",\n",
    "        negative_encode_url=\"https://www.encodeproject.org/experiments/ENCSR000EPH/\",\n",
    "        negative_bed_url=\"https://www.encodeproject.org/files/ENCFF886OJN/@@download/ENCFF886OJN.bed.gz\",\n",
    "        reference_genome_fasta=reference_hg38,\n",
    "        summary=\"\"\"\\\n",
    "Positive reads are from CTCF ChIP-seq on human MCF-7.\n",
    "Negative reads are from DNase-seq on human MCF-7 treated with estradiol at 100nM for 0 hour (control).\n",
    "Reference is GRCH38 (hg38).\n",
    "\"\"\",\n",
    "    ),\n",
    "]"
   ]
  },
  {
   "cell_type": "code",
   "execution_count": 4,
   "metadata": {
    "scrolled": true
   },
   "outputs": [
    {
     "name": "stdout",
     "output_type": "stream",
     "text": [
      "skipping download step...\n",
      "reading data...\n",
      "getting peak length...\n",
      "filtering...\n",
      "  saved to 'datasets/CTCF/hg19/ENCSR000DRZ_ENCSR000EMT/positive_peaks_filtered.bed.gz'\n",
      "converting chip-seq data to fasta...\n",
      "  saved to 'datasets/CTCF/hg19/ENCSR000DRZ_ENCSR000EMT/positive_peaks_filtered_extracted.bed.fa'\n",
      "loading fasta...\n",
      "filtering nonsense...\n",
      "  found 0 sequences with nonsense letters\n",
      "one-hot encoding...\n",
      "skipping download step...\n",
      "reading data...\n",
      "getting peak length...\n",
      "filtering...\n",
      "  saved to 'datasets/CTCF/hg19/ENCSR000DRZ_ENCSR000EMT/negative_peaks_nonintersect_filtered.bed.gz'\n",
      "converting chip-seq data to fasta...\n",
      "  saved to 'datasets/CTCF/hg19/ENCSR000DRZ_ENCSR000EMT/negative_peaks_nonintersect_filtered_extracted.bed.fa'\n",
      "loading fasta...\n",
      "filtering nonsense...\n",
      "  found 1 sequences with nonsense letters\n",
      "one-hot encoding...\n",
      "sampling negatives for similar GC content...\n",
      "saving to hdf5 ...\n",
      "72876 total sequences\n",
      "features dataset  datasets/CTCF/hg19/ENCSR000DRZ_ENCSR000EMT/features\n",
      "labels dataset    datasets/CTCF/hg19/ENCSR000DRZ_ENCSR000EMT/labels\n",
      "downloading...\n",
      "reading data...\n",
      "getting peak length...\n",
      "filtering...\n",
      "  saved to 'datasets/CTCF/hg38/ENCSR000DZN_ENCSR000EMT/positive_peaks_filtered.bed.gz'\n",
      "converting chip-seq data to fasta...\n",
      "  saved to 'datasets/CTCF/hg38/ENCSR000DZN_ENCSR000EMT/positive_peaks_filtered_extracted.bed.fa'\n",
      "loading fasta...\n",
      "filtering nonsense...\n",
      "  found 0 sequences with nonsense letters\n",
      "one-hot encoding...\n",
      "downloading...\n",
      "reading data...\n",
      "getting peak length...\n",
      "filtering...\n",
      "  saved to 'datasets/CTCF/hg38/ENCSR000DZN_ENCSR000EMT/negative_peaks_nonintersect_filtered.bed.gz'\n",
      "converting chip-seq data to fasta...\n",
      "  saved to 'datasets/CTCF/hg38/ENCSR000DZN_ENCSR000EMT/negative_peaks_nonintersect_filtered_extracted.bed.fa'\n",
      "loading fasta...\n",
      "filtering nonsense...\n",
      "  found 2 sequences with nonsense letters\n",
      "one-hot encoding...\n",
      "sampling negatives for similar GC content...\n",
      "saving to hdf5 ...\n",
      "73802 total sequences\n",
      "features dataset  datasets/CTCF/hg38/ENCSR000DZN_ENCSR000EMT/features\n",
      "labels dataset    datasets/CTCF/hg38/ENCSR000DZN_ENCSR000EMT/labels\n",
      "downloading...\n",
      "reading data...\n",
      "getting peak length...\n",
      "filtering...\n",
      "  saved to 'datasets/CTCF/hg38/ENCSR000AKB_ENCSR000EMT/positive_peaks_filtered.bed.gz'\n",
      "converting chip-seq data to fasta...\n",
      "  saved to 'datasets/CTCF/hg38/ENCSR000AKB_ENCSR000EMT/positive_peaks_filtered_extracted.bed.fa'\n",
      "loading fasta...\n",
      "filtering nonsense...\n",
      "  found 0 sequences with nonsense letters\n",
      "one-hot encoding...\n",
      "downloading...\n",
      "reading data...\n",
      "getting peak length...\n",
      "filtering...\n",
      "  saved to 'datasets/CTCF/hg38/ENCSR000AKB_ENCSR000EMT/negative_peaks_nonintersect_filtered.bed.gz'\n",
      "converting chip-seq data to fasta...\n",
      "  saved to 'datasets/CTCF/hg38/ENCSR000AKB_ENCSR000EMT/negative_peaks_nonintersect_filtered_extracted.bed.fa'\n",
      "loading fasta...\n",
      "filtering nonsense...\n",
      "  found 2 sequences with nonsense letters\n",
      "one-hot encoding...\n",
      "sampling negatives for similar GC content...\n",
      "saving to hdf5 ...\n",
      "19624 total sequences\n",
      "features dataset  datasets/CTCF/hg38/ENCSR000AKB_ENCSR000EMT/features\n",
      "labels dataset    datasets/CTCF/hg38/ENCSR000AKB_ENCSR000EMT/labels\n",
      "downloading...\n",
      "reading data...\n",
      "getting peak length...\n",
      "filtering...\n",
      "  saved to 'datasets/CTCF/hg19/ENCSR000AKB_ENCSR000EMT/positive_peaks_filtered.bed.gz'\n",
      "converting chip-seq data to fasta...\n",
      "  saved to 'datasets/CTCF/hg19/ENCSR000AKB_ENCSR000EMT/positive_peaks_filtered_extracted.bed.fa'\n",
      "loading fasta...\n",
      "filtering nonsense...\n",
      "  found 0 sequences with nonsense letters\n",
      "one-hot encoding...\n",
      "downloading...\n",
      "reading data...\n",
      "getting peak length...\n",
      "filtering...\n",
      "  saved to 'datasets/CTCF/hg19/ENCSR000AKB_ENCSR000EMT/negative_peaks_nonintersect_filtered.bed.gz'\n",
      "converting chip-seq data to fasta...\n",
      "  saved to 'datasets/CTCF/hg19/ENCSR000AKB_ENCSR000EMT/negative_peaks_nonintersect_filtered_extracted.bed.fa'\n",
      "loading fasta...\n",
      "filtering nonsense...\n",
      "  found 1 sequences with nonsense letters\n",
      "one-hot encoding...\n",
      "sampling negatives for similar GC content...\n",
      "saving to hdf5 ...\n",
      "17936 total sequences\n",
      "features dataset  datasets/CTCF/hg19/ENCSR000AKB_ENCSR000EMT/features\n",
      "labels dataset    datasets/CTCF/hg19/ENCSR000AKB_ENCSR000EMT/labels\n",
      "downloading...\n",
      "reading data...\n",
      "getting peak length...\n",
      "filtering...\n",
      "  saved to 'datasets/CTCF/hg38/ENCSR000DKV_ENCSR000EMT/positive_peaks_filtered.bed.gz'\n",
      "converting chip-seq data to fasta...\n",
      "  saved to 'datasets/CTCF/hg38/ENCSR000DKV_ENCSR000EMT/positive_peaks_filtered_extracted.bed.fa'\n",
      "loading fasta...\n",
      "filtering nonsense...\n",
      "  found 0 sequences with nonsense letters\n",
      "one-hot encoding...\n",
      "downloading...\n",
      "reading data...\n",
      "getting peak length...\n",
      "filtering...\n",
      "  saved to 'datasets/CTCF/hg38/ENCSR000DKV_ENCSR000EMT/negative_peaks_nonintersect_filtered.bed.gz'\n",
      "converting chip-seq data to fasta...\n",
      "  saved to 'datasets/CTCF/hg38/ENCSR000DKV_ENCSR000EMT/negative_peaks_nonintersect_filtered_extracted.bed.fa'\n",
      "loading fasta...\n",
      "filtering nonsense...\n",
      "  found 2 sequences with nonsense letters\n",
      "one-hot encoding...\n",
      "sampling negatives for similar GC content...\n",
      "saving to hdf5 ...\n",
      "74701 total sequences\n",
      "features dataset  datasets/CTCF/hg38/ENCSR000DKV_ENCSR000EMT/features\n",
      "labels dataset    datasets/CTCF/hg38/ENCSR000DKV_ENCSR000EMT/labels\n",
      "downloading...\n",
      "reading data...\n",
      "getting peak length...\n",
      "filtering...\n",
      "  saved to 'datasets/CTCF/hg38/ENCSR560BUE_ENCSR000EPH/positive_peaks_filtered.bed.gz'\n",
      "converting chip-seq data to fasta...\n",
      "  saved to 'datasets/CTCF/hg38/ENCSR560BUE_ENCSR000EPH/positive_peaks_filtered_extracted.bed.fa'\n",
      "loading fasta...\n",
      "filtering nonsense...\n",
      "  found 0 sequences with nonsense letters\n",
      "one-hot encoding...\n",
      "downloading...\n",
      "reading data...\n",
      "getting peak length...\n",
      "filtering...\n",
      "  saved to 'datasets/CTCF/hg38/ENCSR560BUE_ENCSR000EPH/negative_peaks_nonintersect_filtered.bed.gz'\n",
      "converting chip-seq data to fasta...\n",
      "  saved to 'datasets/CTCF/hg38/ENCSR560BUE_ENCSR000EPH/negative_peaks_nonintersect_filtered_extracted.bed.fa'\n",
      "loading fasta...\n",
      "filtering nonsense...\n",
      "  found 1 sequences with nonsense letters\n",
      "one-hot encoding...\n",
      "sampling negatives for similar GC content...\n",
      "saving to hdf5 ...\n",
      "31446 total sequences\n",
      "features dataset  datasets/CTCF/hg38/ENCSR560BUE_ENCSR000EPH/features\n",
      "labels dataset    datasets/CTCF/hg38/ENCSR560BUE_ENCSR000EPH/labels\n",
      "downloading...\n",
      "reading data...\n",
      "getting peak length...\n",
      "filtering...\n",
      "  saved to 'datasets/CTCF/hg19/ENCSR560BUE_ENCSR000EPH/positive_peaks_filtered.bed.gz'\n",
      "converting chip-seq data to fasta...\n",
      "  saved to 'datasets/CTCF/hg19/ENCSR560BUE_ENCSR000EPH/positive_peaks_filtered_extracted.bed.fa'\n",
      "loading fasta...\n",
      "filtering nonsense...\n",
      "  found 0 sequences with nonsense letters\n",
      "one-hot encoding...\n",
      "downloading...\n",
      "reading data...\n",
      "getting peak length...\n",
      "filtering...\n",
      "  saved to 'datasets/CTCF/hg19/ENCSR560BUE_ENCSR000EPH/negative_peaks_nonintersect_filtered.bed.gz'\n",
      "converting chip-seq data to fasta...\n",
      "  saved to 'datasets/CTCF/hg19/ENCSR560BUE_ENCSR000EPH/negative_peaks_nonintersect_filtered_extracted.bed.fa'\n",
      "loading fasta...\n",
      "filtering nonsense...\n",
      "  found 2 sequences with nonsense letters\n",
      "one-hot encoding...\n",
      "sampling negatives for similar GC content...\n",
      "saving to hdf5 ...\n",
      "31598 total sequences\n",
      "features dataset  datasets/CTCF/hg19/ENCSR560BUE_ENCSR000EPH/features\n",
      "labels dataset    datasets/CTCF/hg19/ENCSR560BUE_ENCSR000EPH/labels\n",
      "downloading...\n",
      "reading data...\n",
      "getting peak length...\n",
      "filtering...\n",
      "  saved to 'datasets/CTCF/hg38/ENCSR000DWH_ENCSR000EPH/positive_peaks_filtered.bed.gz'\n",
      "converting chip-seq data to fasta...\n",
      "  saved to 'datasets/CTCF/hg38/ENCSR000DWH_ENCSR000EPH/positive_peaks_filtered_extracted.bed.fa'\n",
      "loading fasta...\n",
      "filtering nonsense...\n",
      "  found 0 sequences with nonsense letters\n",
      "one-hot encoding...\n",
      "downloading...\n",
      "reading data...\n",
      "getting peak length...\n",
      "filtering...\n",
      "  saved to 'datasets/CTCF/hg38/ENCSR000DWH_ENCSR000EPH/negative_peaks_nonintersect_filtered.bed.gz'\n",
      "converting chip-seq data to fasta...\n",
      "  saved to 'datasets/CTCF/hg38/ENCSR000DWH_ENCSR000EPH/negative_peaks_nonintersect_filtered_extracted.bed.fa'\n",
      "loading fasta...\n",
      "filtering nonsense...\n",
      "  found 1 sequences with nonsense letters\n",
      "one-hot encoding...\n",
      "sampling negatives for similar GC content...\n",
      "saving to hdf5 ...\n",
      "43436 total sequences\n",
      "features dataset  datasets/CTCF/hg38/ENCSR000DWH_ENCSR000EPH/features\n",
      "labels dataset    datasets/CTCF/hg38/ENCSR000DWH_ENCSR000EPH/labels\n"
     ]
    },
    {
     "name": "stdout",
     "output_type": "stream",
     "text": [
      "downloading...\n",
      "reading data...\n",
      "getting peak length...\n",
      "filtering...\n",
      "  saved to 'datasets/CTCF/hg19/ENCSR000DWH_ENCSR000EPH/positive_peaks_filtered.bed.gz'\n",
      "converting chip-seq data to fasta...\n",
      "  saved to 'datasets/CTCF/hg19/ENCSR000DWH_ENCSR000EPH/positive_peaks_filtered_extracted.bed.fa'\n",
      "loading fasta...\n",
      "filtering nonsense...\n",
      "  found 0 sequences with nonsense letters\n",
      "one-hot encoding...\n",
      "downloading...\n",
      "reading data...\n",
      "getting peak length...\n",
      "filtering...\n",
      "  saved to 'datasets/CTCF/hg19/ENCSR000DWH_ENCSR000EPH/negative_peaks_nonintersect_filtered.bed.gz'\n",
      "converting chip-seq data to fasta...\n",
      "  saved to 'datasets/CTCF/hg19/ENCSR000DWH_ENCSR000EPH/negative_peaks_nonintersect_filtered_extracted.bed.fa'\n",
      "loading fasta...\n",
      "filtering nonsense...\n",
      "  found 2 sequences with nonsense letters\n",
      "one-hot encoding...\n",
      "sampling negatives for similar GC content...\n",
      "saving to hdf5 ...\n",
      "43184 total sequences\n",
      "features dataset  datasets/CTCF/hg19/ENCSR000DWH_ENCSR000EPH/features\n",
      "labels dataset    datasets/CTCF/hg19/ENCSR000DWH_ENCSR000EPH/labels\n",
      "downloading...\n",
      "reading data...\n",
      "getting peak length...\n",
      "filtering...\n",
      "  saved to 'datasets/CTCF/hg38/ENCSR000DMV_ENCSR000EPH/positive_peaks_filtered.bed.gz'\n",
      "converting chip-seq data to fasta...\n",
      "  saved to 'datasets/CTCF/hg38/ENCSR000DMV_ENCSR000EPH/positive_peaks_filtered_extracted.bed.fa'\n",
      "loading fasta...\n",
      "filtering nonsense...\n",
      "  found 0 sequences with nonsense letters\n",
      "one-hot encoding...\n",
      "downloading...\n",
      "reading data...\n",
      "getting peak length...\n",
      "filtering...\n",
      "  saved to 'datasets/CTCF/hg38/ENCSR000DMV_ENCSR000EPH/negative_peaks_nonintersect_filtered.bed.gz'\n",
      "converting chip-seq data to fasta...\n",
      "  saved to 'datasets/CTCF/hg38/ENCSR000DMV_ENCSR000EPH/negative_peaks_nonintersect_filtered_extracted.bed.fa'\n",
      "loading fasta...\n",
      "filtering nonsense...\n",
      "  found 1 sequences with nonsense letters\n",
      "one-hot encoding...\n",
      "sampling negatives for similar GC content...\n",
      "saving to hdf5 ...\n",
      "118300 total sequences\n",
      "features dataset  datasets/CTCF/hg38/ENCSR000DMV_ENCSR000EPH/features\n",
      "labels dataset    datasets/CTCF/hg38/ENCSR000DMV_ENCSR000EPH/labels\n"
     ]
    },
    {
     "data": {
      "application/javascript": [
       "\n",
       "            setTimeout(function() {\n",
       "                var nbb_cell_id = 4;\n",
       "                var nbb_unformatted_code = \"# constants\\nmax_read_length = 250\\nnew_read_length = 200\\nalphabet = \\\"ACGT\\\"\\nnonsense_letters = \\\"N\\\"\\nhdf5_path = Path(\\\"chip-seq-datasets.h5\\\")\\n\\nfor d in datasets:\\n    positive_output, negative_output = chipseq_utils.bed_to_fasta_to_one_hot(\\n        dataset_dir=d.path,\\n        positive_bed_url=d.positive_bed_url,\\n        negative_bed_url=d.negative_bed_url,\\n        reference_genome_fasta=d.reference_genome_fasta,\\n        max_read_length=max_read_length,\\n        new_read_length=new_read_length,\\n        alphabet=alphabet,\\n        nonsense_letters=nonsense_letters,\\n    )\\n\\n    # Sample negatives so GC content is similar to positives.\\n    print(\\\"sampling negatives for similar GC content...\\\")\\n    positive_gc_content = positive_output.one_hot[:, :, 1:3].any(-1).mean(1)\\n    negative_gc_content = negative_output.one_hot[:, :, 1:3].any(-1).mean(1)\\n    size = min(positive_gc_content.shape[0], negative_gc_content.shape[0])\\n    inds = chipseq_utils.sample_b_matched_to_a(\\n        positive_gc_content, negative_gc_content, size=size, seed=42\\n    )\\n\\n    # Save to hdf5.\\n    print(\\\"saving to hdf5 ...\\\")\\n    features = np.concatenate((positive_output.one_hot, negative_output.one_hot[inds]))\\n    n_positives = positive_output.one_hot.shape[0]\\n    n_negatives = inds.shape[0]\\n    n_total = n_positives + n_negatives\\n    print(n_total, \\\"total sequences\\\")\\n    labels = np.zeros(n_total, dtype=np.uint8)\\n    labels[:n_positives] = 1\\n    dataset_features = str(d.path / \\\"features\\\")\\n    dataset_labels = str(d.path / \\\"labels\\\")\\n    print(f\\\"features dataset  {dataset_features}\\\")\\n    print(f\\\"labels dataset    {dataset_labels}\\\")\\n\\n    with h5py.File(hdf5_path, mode=\\\"a\\\") as f:\\n        f.create_dataset(dataset_features, data=features, compression=\\\"gzip\\\")\\n        f.create_dataset(dataset_labels, data=labels, compression=\\\"gzip\\\")\";\n",
       "                var nbb_formatted_code = \"# constants\\nmax_read_length = 250\\nnew_read_length = 200\\nalphabet = \\\"ACGT\\\"\\nnonsense_letters = \\\"N\\\"\\nhdf5_path = Path(\\\"chip-seq-datasets.h5\\\")\\n\\nfor d in datasets:\\n    positive_output, negative_output = chipseq_utils.bed_to_fasta_to_one_hot(\\n        dataset_dir=d.path,\\n        positive_bed_url=d.positive_bed_url,\\n        negative_bed_url=d.negative_bed_url,\\n        reference_genome_fasta=d.reference_genome_fasta,\\n        max_read_length=max_read_length,\\n        new_read_length=new_read_length,\\n        alphabet=alphabet,\\n        nonsense_letters=nonsense_letters,\\n    )\\n\\n    # Sample negatives so GC content is similar to positives.\\n    print(\\\"sampling negatives for similar GC content...\\\")\\n    positive_gc_content = positive_output.one_hot[:, :, 1:3].any(-1).mean(1)\\n    negative_gc_content = negative_output.one_hot[:, :, 1:3].any(-1).mean(1)\\n    size = min(positive_gc_content.shape[0], negative_gc_content.shape[0])\\n    inds = chipseq_utils.sample_b_matched_to_a(\\n        positive_gc_content, negative_gc_content, size=size, seed=42\\n    )\\n\\n    # Save to hdf5.\\n    print(\\\"saving to hdf5 ...\\\")\\n    features = np.concatenate((positive_output.one_hot, negative_output.one_hot[inds]))\\n    n_positives = positive_output.one_hot.shape[0]\\n    n_negatives = inds.shape[0]\\n    n_total = n_positives + n_negatives\\n    print(n_total, \\\"total sequences\\\")\\n    labels = np.zeros(n_total, dtype=np.uint8)\\n    labels[:n_positives] = 1\\n    dataset_features = str(d.path / \\\"features\\\")\\n    dataset_labels = str(d.path / \\\"labels\\\")\\n    print(f\\\"features dataset  {dataset_features}\\\")\\n    print(f\\\"labels dataset    {dataset_labels}\\\")\\n\\n    with h5py.File(hdf5_path, mode=\\\"a\\\") as f:\\n        f.create_dataset(dataset_features, data=features, compression=\\\"gzip\\\")\\n        f.create_dataset(dataset_labels, data=labels, compression=\\\"gzip\\\")\";\n",
       "                var nbb_cells = Jupyter.notebook.get_cells();\n",
       "                for (var i = 0; i < nbb_cells.length; ++i) {\n",
       "                    if (nbb_cells[i].input_prompt_number == nbb_cell_id) {\n",
       "                        if (nbb_cells[i].get_text() == nbb_unformatted_code) {\n",
       "                             nbb_cells[i].set_text(nbb_formatted_code);\n",
       "                        }\n",
       "                        break;\n",
       "                    }\n",
       "                }\n",
       "            }, 500);\n",
       "            "
      ],
      "text/plain": [
       "<IPython.core.display.Javascript object>"
      ]
     },
     "metadata": {},
     "output_type": "display_data"
    }
   ],
   "source": [
    "# constants\n",
    "max_read_length = 250\n",
    "new_read_length = 200\n",
    "alphabet = \"ACGT\"\n",
    "nonsense_letters = \"N\"\n",
    "hdf5_path = Path(\"chip-seq-datasets.h5\")\n",
    "\n",
    "for d in datasets:\n",
    "    positive_output, negative_output = chipseq_utils.bed_to_fasta_to_one_hot(\n",
    "        dataset_dir=d.path,\n",
    "        positive_bed_url=d.positive_bed_url,\n",
    "        negative_bed_url=d.negative_bed_url,\n",
    "        reference_genome_fasta=d.reference_genome_fasta,\n",
    "        max_read_length=max_read_length,\n",
    "        new_read_length=new_read_length,\n",
    "        alphabet=alphabet,\n",
    "        nonsense_letters=nonsense_letters,\n",
    "    )\n",
    "\n",
    "    # Sample negatives so GC content is similar to positives.\n",
    "    print(\"sampling negatives for similar GC content...\")\n",
    "    positive_gc_content = positive_output.one_hot[:, :, 1:3].any(-1).mean(1)\n",
    "    negative_gc_content = negative_output.one_hot[:, :, 1:3].any(-1).mean(1)\n",
    "    size = min(positive_gc_content.shape[0], negative_gc_content.shape[0])\n",
    "    inds = chipseq_utils.sample_b_matched_to_a(\n",
    "        positive_gc_content, negative_gc_content, size=size, seed=42\n",
    "    )\n",
    "\n",
    "    # Save to hdf5.\n",
    "    print(\"saving to hdf5 ...\")\n",
    "    features = np.concatenate((positive_output.one_hot, negative_output.one_hot[inds]))\n",
    "    n_positives = positive_output.one_hot.shape[0]\n",
    "    n_negatives = inds.shape[0]\n",
    "    n_total = n_positives + n_negatives\n",
    "    print(n_total, \"total sequences\")\n",
    "    labels = np.zeros(n_total, dtype=np.uint8)\n",
    "    labels[:n_positives] = 1\n",
    "    dataset_features = str(d.path / \"features\")\n",
    "    dataset_labels = str(d.path / \"labels\")\n",
    "    print(f\"features dataset  {dataset_features}\")\n",
    "    print(f\"labels dataset    {dataset_labels}\")\n",
    "\n",
    "    with h5py.File(hdf5_path, mode=\"a\") as f:\n",
    "        f.create_dataset(dataset_features, data=features, compression=\"gzip\")\n",
    "        f.create_dataset(dataset_labels, data=labels, compression=\"gzip\")"
   ]
  },
  {
   "cell_type": "code",
   "execution_count": null,
   "metadata": {},
   "outputs": [],
   "source": []
  },
  {
   "cell_type": "code",
   "execution_count": null,
   "metadata": {},
   "outputs": [],
   "source": []
  },
  {
   "cell_type": "code",
   "execution_count": null,
   "metadata": {},
   "outputs": [],
   "source": []
  },
  {
   "cell_type": "code",
   "execution_count": null,
   "metadata": {},
   "outputs": [],
   "source": []
  },
  {
   "cell_type": "code",
   "execution_count": null,
   "metadata": {},
   "outputs": [],
   "source": []
  },
  {
   "cell_type": "code",
   "execution_count": null,
   "metadata": {},
   "outputs": [],
   "source": []
  },
  {
   "cell_type": "code",
   "execution_count": null,
   "metadata": {},
   "outputs": [],
   "source": []
  },
  {
   "cell_type": "code",
   "execution_count": null,
   "metadata": {},
   "outputs": [],
   "source": []
  },
  {
   "cell_type": "code",
   "execution_count": null,
   "metadata": {},
   "outputs": [],
   "source": []
  },
  {
   "cell_type": "markdown",
   "metadata": {},
   "source": [
    "# scratch space below"
   ]
  },
  {
   "cell_type": "markdown",
   "metadata": {},
   "source": [
    "## match by GC content"
   ]
  },
  {
   "cell_type": "code",
   "execution_count": null,
   "metadata": {},
   "outputs": [],
   "source": [
    "import matplotlib.pyplot as plt\n",
    "\n",
    "fig, axes = plt.subplots(nrows=1, ncols=2, sharey=True, figsize=(10, 5))\n",
    "axes = axes.ravel()\n",
    "\n",
    "positive_gc_content = positive_output.one_hot[:, :, 1:3].any(-1).mean(1)\n",
    "axes[0].hist(positive_gc_content, bins=25, range=(0, 1))\n",
    "axes[0].set_title(\"GC in positives\")\n",
    "\n",
    "negative_gc_content = negative_output.one_hot[:, :, 1:3].any(-1).mean(1)\n",
    "axes[1].hist(negative_gc_content, bins=25, range=(0, 1))\n",
    "axes[1].set_title(\"GC negatives\")\n",
    "\n",
    "plt.tight_layout()\n",
    "plt.show()"
   ]
  },
  {
   "cell_type": "code",
   "execution_count": null,
   "metadata": {},
   "outputs": [],
   "source": [
    "inds = chipseq_utils.sample_b_matched_to_a(positive_gc_content, negative_gc_content)"
   ]
  },
  {
   "cell_type": "code",
   "execution_count": null,
   "metadata": {},
   "outputs": [],
   "source": [
    "fig, axes = plt.subplots(nrows=1, ncols=2, sharey=True, figsize=(10, 5))\n",
    "axes = axes.ravel()\n",
    "axes[0].hist(positive_gc_content, bins=25, range=(0, 1))\n",
    "axes[0].set_title(\"GC in positives\")\n",
    "\n",
    "axes[1].hist(negative_gc_content[inds], bins=25, range=(0, 1))\n",
    "axes[1].set_title(f\"GC in sampled negatives\")\n",
    "plt.tight_layout()\n",
    "plt.show()"
   ]
  },
  {
   "cell_type": "markdown",
   "metadata": {},
   "source": [
    "## Save to HDF5"
   ]
  },
  {
   "cell_type": "code",
   "execution_count": null,
   "metadata": {},
   "outputs": [],
   "source": [
    "import h5py\n",
    "import numpy as np\n",
    "\n",
    "features = np.concatenate((positive_output.one_hot, negative_output.one_hot[inds]))\n",
    "\n",
    "n_positives = positive_output.one_hot.shape[0]\n",
    "n_negatives = inds.shape[0]\n",
    "n_total = n_positives + n_negatives\n",
    "print(n_total_sequences, \"total sequences\")\n",
    "\n",
    "labels = np.zeros(n_total, dtype=np.uint8)\n",
    "labels[:n_positives] = 1\n",
    "\n",
    "dataset_features = str(dataset_dir / \"features\")\n",
    "dataset_labels = str(dataset_dir / \"labels\")\n",
    "print(f\"features dataset  {dataset_features}\")\n",
    "print(f\"labels dataset    {dataset_labels}\")\n",
    "\n",
    "hdf5_path = Path(\"chip-seq-datasets.h5\")\n",
    "\n",
    "with h5py.File(hdf5_path, mode=\"w\") as f:\n",
    "    f.create_dataset(dataset_features, data=features, compression=\"gzip\")\n",
    "    f.create_dataset(dataset_labels, data=labels, compression=\"gzip\")"
   ]
  },
  {
   "cell_type": "code",
   "execution_count": null,
   "metadata": {},
   "outputs": [],
   "source": []
  },
  {
   "cell_type": "code",
   "execution_count": null,
   "metadata": {},
   "outputs": [],
   "source": []
  },
  {
   "cell_type": "code",
   "execution_count": null,
   "metadata": {},
   "outputs": [],
   "source": []
  },
  {
   "cell_type": "code",
   "execution_count": null,
   "metadata": {},
   "outputs": [],
   "source": []
  },
  {
   "cell_type": "code",
   "execution_count": null,
   "metadata": {},
   "outputs": [],
   "source": []
  },
  {
   "cell_type": "markdown",
   "metadata": {},
   "source": [
    "## Get positive peak data\n",
    "\n",
    "- Stamatoyannopoulos - Univ of Washington\n",
    "- CTCF ChIP-seq on human GM12878\n",
    "- https://www.encodeproject.org/experiments/ENCSR000DRZ/\n",
    "- conservative IDR thresholded peaks  1,2  hg19"
   ]
  },
  {
   "cell_type": "code",
   "execution_count": null,
   "metadata": {},
   "outputs": [],
   "source": [
    "input_bed_file_url = (\n",
    "    \"https://www.encodeproject.org/files/ENCFF963PJY/@@download/ENCFF963PJY.bed.gz\"\n",
    ")\n",
    "input_bed_file = datasets / \"CTCF\" / \"Stamatoyannopoulos\" / \"positive_peaks.bed.gz\"\n",
    "input_bed_file.parent.mkdir(parents=True, exist_ok=True)"
   ]
  },
  {
   "cell_type": "code",
   "execution_count": null,
   "metadata": {},
   "outputs": [],
   "source": [
    "if not input_bed_file.exists():\n",
    "    print(\"downloading...\")\n",
    "    _ = chipseq_utils.download(\n",
    "        url=input_bed_file_url,\n",
    "        output_path=input_bed_file,\n",
    "        force=True,\n",
    "    )\n",
    "\n",
    "output = chipseq_utils._bed_to_fasta_to_onehot(\n",
    "    bed_file=input_bed_file,\n",
    "    max_read_length=max_read_length,\n",
    "    new_read_length=constant_read_length,\n",
    "    reference_genome_fasta=reference_genome_fasta,\n",
    "    alphabet=alphabet,\n",
    "    nonsense_letters=nonsense_letters,\n",
    "    bedtools_exe=\"bedtools\",\n",
    ")"
   ]
  },
  {
   "cell_type": "markdown",
   "metadata": {},
   "source": [
    "## Get negative peak data\n",
    "\n",
    "- Stamatoyannopoulos - Univ of Washington\n",
    "- DNase-seq on human GM12878\n",
    "- https://www.encodeproject.org/experiments/ENCSR000EMT/"
   ]
  },
  {
   "cell_type": "code",
   "execution_count": null,
   "metadata": {},
   "outputs": [],
   "source": [
    "input_bed_file_url = (\n",
    "    \"https://www.encodeproject.org/files/ENCFF097LEF/@@download/ENCFF097LEF.bed.gz\"\n",
    ")\n",
    "input_bed_file = datasets / \"CTCF\" / \"Stamatoyannopoulos\" / \"negative_peaks.bed.gz\"\n",
    "input_bed_file.parent.mkdir(parents=True, exist_ok=True)\n",
    "\n",
    "if not input_bed_file.exists():\n",
    "    print(\"downloading...\")\n",
    "    _ = chipseq_utils.download(\n",
    "        url=input_bed_file_url,\n",
    "        output_path=input_bed_file,\n",
    "        force=True,\n",
    "    )"
   ]
  },
  {
   "cell_type": "code",
   "execution_count": null,
   "metadata": {},
   "outputs": [],
   "source": [
    "input_file_file_nonintersect = chipseq_utils.add_str_before_suffixes(\n",
    "    input_bed_file, \"_nonintersect\"\n",
    ")\n",
    "\n",
    "_ = chipseq_utils.bedtools_intersect(\n",
    "    a=input_bed_file,\n",
    "    b=output.bed_file_filtered,\n",
    "    output_bedfile=input_file_file_nonintersect,\n",
    "    write_a=True,\n",
    "    invert_match=True,\n",
    ")"
   ]
  },
  {
   "cell_type": "code",
   "execution_count": null,
   "metadata": {
    "scrolled": true
   },
   "outputs": [],
   "source": [
    "output = chipseq_utils._bed_to_fasta_to_onehot(\n",
    "    bed_file=input_file_file_nonintersect,\n",
    "    max_read_length=max_read_length,\n",
    "    new_read_length=constant_read_length,\n",
    "    reference_genome_fasta=reference_genome_fasta,\n",
    "    alphabet=alphabet,\n",
    "    nonsense_letters=nonsense_letters,\n",
    "    bedtools_exe=\"bedtools\",\n",
    ")"
   ]
  },
  {
   "cell_type": "code",
   "execution_count": null,
   "metadata": {},
   "outputs": [],
   "source": []
  },
  {
   "cell_type": "code",
   "execution_count": null,
   "metadata": {},
   "outputs": [],
   "source": []
  },
  {
   "cell_type": "code",
   "execution_count": null,
   "metadata": {},
   "outputs": [],
   "source": []
  },
  {
   "cell_type": "markdown",
   "metadata": {},
   "source": [
    "## download ChIP-seq data"
   ]
  },
  {
   "cell_type": "code",
   "execution_count": null,
   "metadata": {},
   "outputs": [],
   "source": [
    "from pathlib import Path\n",
    "\n",
    "# save all things here\n",
    "data_dir = Path(\"datasets\") / \"CTCF_Stamatoyannopoulos\"\n",
    "data_dir.mkdir(parents=True, exist_ok=True)\n",
    "\n",
    "chipseq_bedfile = data_dir / \"positive_peaks.bed.gz\""
   ]
  },
  {
   "cell_type": "code",
   "execution_count": null,
   "metadata": {
    "colab": {
     "base_uri": "https://localhost:8080/"
    },
    "id": "-I8CI95kI7Ez",
    "outputId": "9464e67c-b521-47d7-9e54-8f173441de33",
    "scrolled": true
   },
   "outputs": [],
   "source": [
    "# Stamatoyannopoulos - Univ of Washington\n",
    "# CTCF ChIP-seq on human GM12878\n",
    "# https://www.encodeproject.org/experiments/ENCSR000DRZ/\n",
    "# conservative IDR thresholded peaks  1,2  hg19\n",
    "!wget -O $chipseq_bedfile https://www.encodeproject.org/files/ENCFF963PJY/@@download/ENCFF963PJY.bed.gz"
   ]
  },
  {
   "cell_type": "code",
   "execution_count": null,
   "metadata": {
    "colab": {
     "base_uri": "https://localhost:8080/"
    },
    "id": "cNGptPAwPCn6",
    "outputId": "5c4da922-4a24-497d-a8e3-07718e7058bc",
    "scrolled": true
   },
   "outputs": [],
   "source": [
    "!ls $data_dir"
   ]
  },
  {
   "cell_type": "markdown",
   "metadata": {},
   "source": [
    "## inspect ChIP-seq data"
   ]
  },
  {
   "cell_type": "code",
   "execution_count": null,
   "metadata": {
    "id": "WsO8KpIzPCgg"
   },
   "outputs": [],
   "source": [
    "import pandas as pd\n",
    "\n",
    "df = pd.read_csv(chipseq_bedfile, delimiter=\"\\t\", header=None)\n",
    "df.head()"
   ]
  },
  {
   "cell_type": "code",
   "execution_count": null,
   "metadata": {
    "id": "RxBtdYXmPCXI"
   },
   "outputs": [],
   "source": [
    "%matplotlib inline\n",
    "import matplotlib.pyplot as plt\n",
    "\n",
    "lengths = df.loc[:, 2] - df.loc[:, 1]\n",
    "plt.hist(lengths, bins=20)\n",
    "plt.title(\"Distribution of peak length in ChIP-seq data\")\n",
    "plt.show()"
   ]
  },
  {
   "cell_type": "markdown",
   "metadata": {},
   "source": [
    "## filter ChIP-seq data"
   ]
  },
  {
   "cell_type": "code",
   "execution_count": null,
   "metadata": {},
   "outputs": [],
   "source": [
    "import chipseq_utils"
   ]
  },
  {
   "cell_type": "code",
   "execution_count": null,
   "metadata": {},
   "outputs": [],
   "source": [
    "df = pd.read_csv(chipseq_bedfile, delimiter=\"\\t\", header=None)\n",
    "df = chipseq_utils.filter_bed_by_max_length(df, max_length=250)\n",
    "df = chipseq_utils.transform_bed_to_constant_size(df, new_length=250)\n",
    "\n",
    "chipseq_bedfile_filtered = chipseq_utils.add_str_before_suffixes(\n",
    "    chipseq_bedfile, string=\"_filtered\"\n",
    ")\n",
    "df.to_csv(chipseq_bedfile_filtered, sep=\"\\t\", index=False, header=False)\n",
    "print(f\"Saved to '{chipseq_bedfile_filtered}'\")"
   ]
  },
  {
   "cell_type": "markdown",
   "metadata": {},
   "source": [
    "## something something fasta"
   ]
  },
  {
   "cell_type": "markdown",
   "metadata": {},
   "source": [
    "### get reference genome\n",
    "\n",
    "In this case, reference genome is in `.2bit` format, so we must convert to fasta."
   ]
  },
  {
   "cell_type": "code",
   "execution_count": null,
   "metadata": {
    "scrolled": false
   },
   "outputs": [],
   "source": [
    "# get reference genome\n",
    "!wget -N -nv --show-progress https://hgdownload.cse.ucsc.edu/goldenPath/hg19/bigZips/hg19.2bit"
   ]
  },
  {
   "cell_type": "code",
   "execution_count": null,
   "metadata": {
    "colab": {
     "base_uri": "https://localhost:8080/"
    },
    "id": "Yls39buqRPcQ",
    "outputId": "16b65b02-43e3-452b-fd49-d960d811ec62",
    "scrolled": false
   },
   "outputs": [],
   "source": [
    "# get program that converts twobit to fasta format\n",
    "!wget -N -nv --show-progress http://hgdownload.soe.ucsc.edu/admin/exe/linux.x86_64/twoBitToFa\n",
    "!chmod +x twoBitToFa"
   ]
  },
  {
   "cell_type": "code",
   "execution_count": null,
   "metadata": {
    "scrolled": false
   },
   "outputs": [],
   "source": [
    "# convert 2bit for fasta.\n",
    "reference_fasta = \"hg19.fa\"\n",
    "process = chipseq_utils.twobit_to_fasta(\"hg19.2bit\", reference_fasta)\n",
    "print(process)"
   ]
  },
  {
   "cell_type": "code",
   "execution_count": null,
   "metadata": {
    "colab": {
     "base_uri": "https://localhost:8080/"
    },
    "id": "3N9rLb-zTJZZ",
    "outputId": "c6699d39-031b-4f3a-d8c0-e3f974dd9f27"
   },
   "outputs": [],
   "source": [
    "# Install bedtools if the program is not found.\n",
    "![[ $(command -v bedtools) ]] || sudo apt-get install --yes --quiet bedtools"
   ]
  },
  {
   "cell_type": "code",
   "execution_count": null,
   "metadata": {},
   "outputs": [],
   "source": [
    "# create fasta file from the bedfile.\n",
    "\n",
    "chipseq_fasta = chipseq_utils.add_str_before_suffixes(\n",
    "    chipseq_bedfile_filtered, \"_hg19\"\n",
    ").with_suffix(\".fa\")\n",
    "\n",
    "process = chipseq_utils.bedtools_getfasta(\n",
    "    input_fasta=reference_fasta,\n",
    "    output_fasta=chipseq_fasta,\n",
    "    bed_file=chipseq_bedfile_filtered,\n",
    "    force_strandedness=True,\n",
    ")\n",
    "print(process)"
   ]
  },
  {
   "cell_type": "code",
   "execution_count": null,
   "metadata": {
    "colab": {
     "base_uri": "https://localhost:8080/"
    },
    "id": "bo-YX4y7UP_p",
    "outputId": "b282e052-01d8-4063-b1e4-1bc2075b0ca7",
    "scrolled": true
   },
   "outputs": [],
   "source": [
    "!head -n 4 $chipseq_fasta"
   ]
  },
  {
   "cell_type": "code",
   "execution_count": null,
   "metadata": {},
   "outputs": [],
   "source": [
    "# load sequences\n",
    "descriptions, sequences = chipseq_utils.parse_fasta(chipseq_fasta)\n",
    "\n",
    "# filter out nonsense\n",
    "nonsense = chipseq_utils.get_nonsense_sequence_mask(sequences, nonsense_letters=\"N\")\n",
    "print(f\"Found {nonsense.sum()} sequences with nonsense letters\")\n",
    "descriptions = descriptions[~nonsense]\n",
    "sequences = sequences[~nonsense]\n",
    "\n",
    "# one-hot encode\n",
    "sequences_onehot = chipseq_utils.one_hot(sequences)\n",
    "print(\"Shape of one-hot encoded data:\", sequences_onehot.shape)"
   ]
  },
  {
   "cell_type": "markdown",
   "metadata": {},
   "source": [
    "## get GC content per sequence"
   ]
  },
  {
   "cell_type": "code",
   "execution_count": null,
   "metadata": {
    "scrolled": true
   },
   "outputs": [],
   "source": [
    "# This assumes that GC are in slices 1:3 of the one-hot encoded data.\n",
    "# shape of this is (n_sequences,)\n",
    "gc_content_pos = sequences_onehot[:, :, 1:3].any(-1).mean(1)\n",
    "\n",
    "plt.hist(gc_content_pos, bins=25, range=(0, 1))\n",
    "plt.title(\"Histogram of GC content among positive sequences\")\n",
    "plt.show()"
   ]
  },
  {
   "cell_type": "code",
   "execution_count": null,
   "metadata": {},
   "outputs": [],
   "source": []
  },
  {
   "cell_type": "code",
   "execution_count": null,
   "metadata": {},
   "outputs": [],
   "source": []
  },
  {
   "cell_type": "code",
   "execution_count": null,
   "metadata": {},
   "outputs": [],
   "source": []
  },
  {
   "cell_type": "markdown",
   "metadata": {},
   "source": [
    "## create negative data\n",
    "\n",
    "Get non-overlap between positive peaks and negative peaks.\n",
    "\n",
    "Negative labels sampled from same distribution but without the pattern we are interested in. We will use DNAseq for the same cell-type as our negative control. This gives us accessible regions."
   ]
  },
  {
   "cell_type": "code",
   "execution_count": null,
   "metadata": {},
   "outputs": [],
   "source": [
    "neg_chipseq_bedfile = data_dir / \"negative_peaks.bed.gz\""
   ]
  },
  {
   "cell_type": "code",
   "execution_count": null,
   "metadata": {},
   "outputs": [],
   "source": [
    "# Stamatoyannopoulos - Univ of Washington\n",
    "# DNase-seq on human GM12878\n",
    "# https://www.encodeproject.org/experiments/ENCSR000EMT/\n",
    "!wget -O $neg_chipseq_bedfile https://www.encodeproject.org/files/ENCFF097LEF/@@download/ENCFF097LEF.bed.gz"
   ]
  },
  {
   "cell_type": "code",
   "execution_count": null,
   "metadata": {},
   "outputs": [],
   "source": [
    "neg_chipseq_bedfile_nonoverlap = data_dir / \"neg_nonoverlap.bed.gz\""
   ]
  },
  {
   "cell_type": "code",
   "execution_count": null,
   "metadata": {},
   "outputs": [],
   "source": [
    "!bedtools intersect -v -wa -a $neg_chipseq_bedfile -b $chipseq_bedfile_filtered | gzip > $neg_chipseq_bedfile_nonoverlap"
   ]
  },
  {
   "cell_type": "code",
   "execution_count": null,
   "metadata": {
    "scrolled": false
   },
   "outputs": [],
   "source": [
    "process = chipseq_utils.bedtools_intersect(\n",
    "    neg_chipseq_bedfile,\n",
    "    chipseq_bedfile_filtered,\n",
    "    output_bedfile=\"output.bed\",\n",
    "    write_a=True,\n",
    "    invert_match=True,\n",
    ")"
   ]
  },
  {
   "cell_type": "code",
   "execution_count": null,
   "metadata": {},
   "outputs": [],
   "source": [
    "# TODO:\n",
    "# do the same processing as above for negative peaks. in the end, you want\n",
    "# one-hot representation of the negatives."
   ]
  },
  {
   "cell_type": "code",
   "execution_count": null,
   "metadata": {},
   "outputs": [],
   "source": [
    "import pandas as pd\n",
    "\n",
    "df = pd.read_csv(neg_chipseq_bedfile_nonoverlap, delimiter=\"\\t\", header=None)\n",
    "df.head()"
   ]
  },
  {
   "cell_type": "code",
   "execution_count": null,
   "metadata": {},
   "outputs": [],
   "source": [
    "%matplotlib inline\n",
    "import matplotlib.pyplot as plt\n",
    "\n",
    "lengths = df.loc[:, 2] - df.loc[:, 1]\n",
    "plt.hist(lengths, bins=20)\n",
    "plt.title(\"Distribution of peak length in negative reads\")\n",
    "plt.show()"
   ]
  },
  {
   "cell_type": "code",
   "execution_count": null,
   "metadata": {},
   "outputs": [],
   "source": [
    "df = pd.read_csv(neg_chipseq_bedfile_nonoverlap, delimiter=\"\\t\", header=None)\n",
    "df = chipseq_utils.filter_bed_by_max_length(df, max_length=250)\n",
    "df = chipseq_utils.transform_bed_to_constant_size(df, new_length=250)\n",
    "\n",
    "neg_chipseq_bedfile_nonoverlap_filtered = chipseq_utils.add_str_before_suffixes(\n",
    "    neg_chipseq_bedfile_nonoverlap, string=\"_filtered\"\n",
    ")\n",
    "df.to_csv(neg_chipseq_bedfile_nonoverlap_filtered, sep=\"\\t\", index=False, header=False)\n",
    "print(f\"Saved to '{neg_chipseq_bedfile_nonoverlap_filtered}'\")"
   ]
  },
  {
   "cell_type": "code",
   "execution_count": null,
   "metadata": {},
   "outputs": [],
   "source": [
    "reference_fasta = \"hg19.fa\"\n",
    "\n",
    "neg_chipseq_bedfile_nonoverlap_filtered_fasta = chipseq_utils.add_str_before_suffixes(\n",
    "    neg_chipseq_bedfile_nonoverlap_filtered, \"_hg19\"\n",
    ").with_suffix(\".fa\")\n",
    "neg_chipseq_bedfile_nonoverlap_filtered_fasta"
   ]
  },
  {
   "cell_type": "code",
   "execution_count": null,
   "metadata": {},
   "outputs": [],
   "source": [
    "process = chipseq_utils.bedtools_getfasta(\n",
    "    input_fasta=reference_fasta,\n",
    "    output_fasta=neg_chipseq_bedfile_nonoverlap_filtered_fasta,\n",
    "    bed_file=neg_chipseq_bedfile_nonoverlap_filtered,\n",
    "    force_strandedness=True,\n",
    ")\n",
    "print(process)"
   ]
  },
  {
   "cell_type": "code",
   "execution_count": null,
   "metadata": {
    "scrolled": true
   },
   "outputs": [],
   "source": [
    "# load sequences\n",
    "descriptions, sequences = chipseq_utils.parse_fasta(\n",
    "    neg_chipseq_bedfile_nonoverlap_filtered_fasta\n",
    ")\n",
    "\n",
    "# filter out nonsense\n",
    "nonsense = chipseq_utils.get_nonsense_sequence_mask(sequences, nonsense_letters=\"N\")\n",
    "print(f\"Found {nonsense.sum()} sequences with nonsense letters\")\n",
    "descriptions = descriptions[~nonsense]\n",
    "sequences = sequences[~nonsense]\n",
    "\n",
    "# one-hot encode\n",
    "sequences_onehot = chipseq_utils.one_hot(sequences)\n",
    "print(\"Shape of one-hot encoded data:\", sequences_onehot.shape)"
   ]
  },
  {
   "cell_type": "code",
   "execution_count": null,
   "metadata": {},
   "outputs": [],
   "source": [
    "# This assumes that GC are in slices 1:3 of the one-hot encoded data.\n",
    "# shape of this is (n_sequences,)\n",
    "gc_content_pos = sequences_onehot[:, :, 1:3].any(-1).mean(1)\n",
    "\n",
    "plt.hist(gc_content_pos, bins=25, range=(0, 1))\n",
    "plt.title(\"Histogram of GC content among positive sequences\")\n",
    "plt.show()"
   ]
  },
  {
   "cell_type": "code",
   "execution_count": null,
   "metadata": {},
   "outputs": [],
   "source": []
  },
  {
   "cell_type": "code",
   "execution_count": null,
   "metadata": {},
   "outputs": [],
   "source": []
  },
  {
   "cell_type": "code",
   "execution_count": null,
   "metadata": {
    "id": "FYKAF6ZKY-7f"
   },
   "outputs": [],
   "source": [
    "# try to match positives and negatives by GC content.\n",
    "# use the one-hot encoded array.\n",
    "# we have to downsample negative peaks.\n",
    "#\n",
    "# do this after filtering with bedtools interset.\n",
    "#\n",
    "# then try to balance dataset. how much downsampling of negative data?\n",
    "\n",
    "# also give labels of 0 or 1.\n",
    "\n",
    "# save to hdf5\n",
    "\n",
    "# and then train on a model, and look at saliency map.\n",
    "# CTCF dataset is niiiiice. use that. Saliency map should show CTCF nicely."
   ]
  },
  {
   "cell_type": "code",
   "execution_count": null,
   "metadata": {},
   "outputs": [],
   "source": [
    "# https://datascience.stackexchange.com/questions/67645/how-to-resample-one-dataset-to-conform-to-the-distribution-of-another-dataset\n",
    "# https://stackoverflow.com/questions/41495240/how-to-sample-data-based-off-the-distribution-of-another-dataset-in-r"
   ]
  },
  {
   "cell_type": "code",
   "execution_count": null,
   "metadata": {},
   "outputs": [],
   "source": [
    "np.random.choice(gc_content_neg, replace=False, p=gc_content_pos)"
   ]
  },
  {
   "cell_type": "code",
   "execution_count": null,
   "metadata": {},
   "outputs": [],
   "source": [
    "import scipy.stats"
   ]
  },
  {
   "cell_type": "code",
   "execution_count": null,
   "metadata": {},
   "outputs": [],
   "source": [
    "kde = scipy.stats.kde.gaussian_kde(gc_content_pos)"
   ]
  },
  {
   "cell_type": "code",
   "execution_count": null,
   "metadata": {},
   "outputs": [],
   "source": [
    "neg_chosen = np.random.choice(\n",
    "    gc_content_neg, size=gc_content_pos.shape, replace=False, p=kde(gc_content_neg)\n",
    ")"
   ]
  },
  {
   "cell_type": "code",
   "execution_count": null,
   "metadata": {},
   "outputs": [],
   "source": []
  },
  {
   "cell_type": "code",
   "execution_count": null,
   "metadata": {},
   "outputs": [],
   "source": []
  },
  {
   "cell_type": "code",
   "execution_count": null,
   "metadata": {
    "id": "_jb9PV32YwO2"
   },
   "outputs": [],
   "source": []
  },
  {
   "cell_type": "code",
   "execution_count": null,
   "metadata": {
    "id": "VWN4seq7YwMS"
   },
   "outputs": [],
   "source": []
  },
  {
   "cell_type": "code",
   "execution_count": null,
   "metadata": {
    "id": "-w2yu8AtYwJv"
   },
   "outputs": [],
   "source": []
  },
  {
   "cell_type": "code",
   "execution_count": null,
   "metadata": {
    "id": "kovkE0vxYv63"
   },
   "outputs": [],
   "source": []
  },
  {
   "cell_type": "code",
   "execution_count": null,
   "metadata": {
    "id": "R3S0dOJfUPcI"
   },
   "outputs": [],
   "source": []
  }
 ],
 "metadata": {
  "colab": {
   "collapsed_sections": [],
   "name": "how-to-chip-seq.ipynb",
   "provenance": []
  },
  "kernelspec": {
   "display_name": "Python 3",
   "language": "python",
   "name": "python3"
  },
  "language_info": {
   "codemirror_mode": {
    "name": "ipython",
    "version": 3
   },
   "file_extension": ".py",
   "mimetype": "text/x-python",
   "name": "python",
   "nbconvert_exporter": "python",
   "pygments_lexer": "ipython3",
   "version": "3.8.6"
  }
 },
 "nbformat": 4,
 "nbformat_minor": 1
}
